{
  "cells": [
    {
      "cell_type": "markdown",
      "metadata": {
        "id": "view-in-github",
        "colab_type": "text"
      },
      "source": [
        "<a href=\"https://colab.research.google.com/github/samarth2015/srip_selection/blob/main/CNN_LSTM.ipynb\" target=\"_parent\"><img src=\"https://colab.research.google.com/assets/colab-badge.svg\" alt=\"Open In Colab\"/></a>"
      ]
    },
    {
      "cell_type": "markdown",
      "source": [
        "\n",
        "\n",
        "## Importing Libraries and downloading the dataset"
      ],
      "metadata": {
        "id": "2jvf2_S7ayiX"
      }
    },
    {
      "cell_type": "code",
      "execution_count": null,
      "metadata": {
        "id": "PO_I1afzPCCS"
      },
      "outputs": [],
      "source": [
        "import numpy as np\n",
        "import pandas as pd\n",
        "import matplotlib.pyplot as plt"
      ]
    },
    {
      "cell_type": "code",
      "source": [
        "!wget \"https://archive.ics.uci.edu/static/public/240/human+activity+recognition+using+smartphones.zip\""
      ],
      "metadata": {
        "colab": {
          "base_uri": "https://localhost:8080/"
        },
        "id": "Y0sCf2m5PDst",
        "outputId": "1a9e4600-3565-469e-b164-a2e03ca3f948"
      },
      "execution_count": null,
      "outputs": [
        {
          "output_type": "stream",
          "name": "stdout",
          "text": [
            "--2025-02-19 18:10:54--  https://archive.ics.uci.edu/static/public/240/human+activity+recognition+using+smartphones.zip\n",
            "Resolving archive.ics.uci.edu (archive.ics.uci.edu)... 128.195.10.252\n",
            "Connecting to archive.ics.uci.edu (archive.ics.uci.edu)|128.195.10.252|:443... connected.\n",
            "HTTP request sent, awaiting response... 200 OK\n",
            "Length: unspecified\n",
            "Saving to: ‘human+activity+recognition+using+smartphones.zip.1’\n",
            "\n",
            "human+activity+reco     [                 <=>]  58.18M  17.8MB/s    in 4.2s    \n",
            "\n",
            "2025-02-19 18:10:59 (13.8 MB/s) - ‘human+activity+recognition+using+smartphones.zip.1’ saved [61005872]\n",
            "\n"
          ]
        }
      ]
    },
    {
      "cell_type": "code",
      "source": [
        "# unzip the HAR file\n",
        "!unzip \"/content/human+activity+recognition+using+smartphones.zip\""
      ],
      "metadata": {
        "colab": {
          "base_uri": "https://localhost:8080/"
        },
        "id": "TFC64lSCQEZ6",
        "outputId": "fec6bb4a-63cb-4ad5-8c6a-d40fed2ac83b"
      },
      "execution_count": null,
      "outputs": [
        {
          "output_type": "stream",
          "name": "stdout",
          "text": [
            "Archive:  /content/human+activity+recognition+using+smartphones.zip\n",
            "replace UCI HAR Dataset.names? [y]es, [n]o, [A]ll, [N]one, [r]ename: y\n",
            " extracting: UCI HAR Dataset.names   \n",
            "replace UCI HAR Dataset.zip? [y]es, [n]o, [A]ll, [N]one, [r]ename: y\n",
            " extracting: UCI HAR Dataset.zip     \n"
          ]
        }
      ]
    },
    {
      "cell_type": "code",
      "source": [
        "!unzip \"/content/UCI HAR Dataset.zip\""
      ],
      "metadata": {
        "colab": {
          "base_uri": "https://localhost:8080/"
        },
        "id": "RaZtFxL0QYKc",
        "outputId": "2ab2dc0b-90ed-466c-d3b8-7cf84b37f6fc"
      },
      "execution_count": null,
      "outputs": [
        {
          "output_type": "stream",
          "name": "stdout",
          "text": [
            "Archive:  /content/UCI HAR Dataset.zip\n",
            "replace UCI HAR Dataset/.DS_Store? [y]es, [n]o, [A]ll, [N]one, [r]ename: y\n",
            "  inflating: UCI HAR Dataset/.DS_Store  \n",
            "replace __MACOSX/UCI HAR Dataset/._.DS_Store? [y]es, [n]o, [A]ll, [N]one, [r]ename: y\n",
            "  inflating: __MACOSX/UCI HAR Dataset/._.DS_Store  \n",
            "replace UCI HAR Dataset/activity_labels.txt? [y]es, [n]o, [A]ll, [N]one, [r]ename: y\n",
            "  inflating: UCI HAR Dataset/activity_labels.txt  \n",
            "replace __MACOSX/UCI HAR Dataset/._activity_labels.txt? [y]es, [n]o, [A]ll, [N]one, [r]ename: y\n",
            "  inflating: __MACOSX/UCI HAR Dataset/._activity_labels.txt  \n",
            "replace UCI HAR Dataset/features.txt? [y]es, [n]o, [A]ll, [N]one, [r]ename: a\n",
            "error:  invalid response [a]\n",
            "replace UCI HAR Dataset/features.txt? [y]es, [n]o, [A]ll, [N]one, [r]ename: "
          ]
        }
      ]
    },
    {
      "cell_type": "markdown",
      "metadata": {
        "id": "7qJKU8gzPCCU"
      },
      "source": [
        "## Loading the data"
      ]
    },
    {
      "cell_type": "markdown",
      "source": [
        "#### Loading the train data into separate variables"
      ],
      "metadata": {
        "id": "PKnRL7l4M977"
      }
    },
    {
      "cell_type": "code",
      "execution_count": null,
      "metadata": {
        "id": "oe03RNjPPCCV"
      },
      "outputs": [],
      "source": [
        "acc_x_train = np.genfromtxt('/content/UCI HAR Dataset/train/Inertial Signals/body_acc_x_train.txt', dtype=np.float32, delimiter=None)\n",
        "\n",
        "acc_y_train = np.genfromtxt('/content/UCI HAR Dataset/train/Inertial Signals/body_acc_y_train.txt', dtype=np.float32, delimiter=None)\n",
        "\n",
        "acc_z_train = np.genfromtxt('/content/UCI HAR Dataset/train/Inertial Signals/body_acc_z_train.txt', dtype=np.float32, delimiter=None)\n",
        "\n",
        "gyro_x_train = np.genfromtxt('/content/UCI HAR Dataset/train/Inertial Signals/body_gyro_x_train.txt', dtype=np.float32, delimiter=None)\n",
        "\n",
        "gyro_y_train = np.genfromtxt('/content/UCI HAR Dataset/train/Inertial Signals/body_gyro_y_train.txt', dtype=np.float32, delimiter=None)\n",
        "\n",
        "gyro_z_train = np.genfromtxt('/content/UCI HAR Dataset/train/Inertial Signals/body_gyro_z_train.txt', dtype=np.float32, delimiter=None)\n",
        "\n",
        "totalacc_x_train = np.genfromtxt('/content/UCI HAR Dataset/train/Inertial Signals/total_acc_x_train.txt', dtype=np.float32, delimiter=None)\n",
        "\n",
        "totalacc_y_train = np.genfromtxt('/content/UCI HAR Dataset/train/Inertial Signals/total_acc_y_train.txt', dtype=np.float32, delimiter=None)\n",
        "\n",
        "totalacc_z_train = np.genfromtxt('/content/UCI HAR Dataset/train/Inertial Signals/total_acc_z_train.txt', dtype=np.float32, delimiter=None)"
      ]
    },
    {
      "cell_type": "code",
      "execution_count": null,
      "metadata": {
        "colab": {
          "base_uri": "https://localhost:8080/"
        },
        "id": "1Qxzv1mZPCCW",
        "outputId": "4896b30a-5a63-4f55-e24f-888f0a745d99"
      },
      "outputs": [
        {
          "output_type": "execute_result",
          "data": {
            "text/plain": [
              "((7352, 128),\n",
              " (7352, 128),\n",
              " (7352, 128),\n",
              " (7352, 128),\n",
              " (7352, 128),\n",
              " (7352, 128),\n",
              " (7352, 128),\n",
              " (7352, 128),\n",
              " (7352, 128))"
            ]
          },
          "metadata": {},
          "execution_count": 47
        }
      ],
      "source": [
        "acc_x_train.shape, acc_y_train.shape, acc_z_train.shape, gyro_x_train.shape, gyro_y_train.shape, gyro_z_train.shape, totalacc_x_train.shape, totalacc_y_train.shape, totalacc_z_train.shape"
      ]
    },
    {
      "cell_type": "code",
      "execution_count": null,
      "metadata": {
        "colab": {
          "base_uri": "https://localhost:8080/"
        },
        "id": "Ng4l-j8fPCCX",
        "outputId": "3f5ef032-4fb6-4b73-b00b-b83266489e14"
      },
      "outputs": [
        {
          "output_type": "execute_result",
          "data": {
            "text/plain": [
              "(7352,)"
            ]
          },
          "metadata": {},
          "execution_count": 48
        }
      ],
      "source": [
        "labels = np.genfromtxt('/content/UCI HAR Dataset/train/y_train.txt', dtype=np.int32, delimiter=None)\n",
        "\n",
        "labels.shape"
      ]
    },
    {
      "cell_type": "markdown",
      "source": [
        "#### Loading the test data into separate variables"
      ],
      "metadata": {
        "id": "uqgW3pvONC8J"
      }
    },
    {
      "cell_type": "code",
      "source": [
        "acc_x_test = np.genfromtxt(\"/content/UCI HAR Dataset/test/Inertial Signals/body_acc_x_test.txt\", dtype=np.float32, delimiter=None)\n",
        "\n",
        "acc_y_test = np.genfromtxt(\"/content/UCI HAR Dataset/test/Inertial Signals/body_acc_y_test.txt\", dtype=np.float32, delimiter=None)\n",
        "\n",
        "acc_z_test = np.genfromtxt(\"/content/UCI HAR Dataset/test/Inertial Signals/body_acc_z_test.txt\", dtype=np.float32, delimiter=None)\n",
        "\n",
        "gyro_x_test = np.genfromtxt(\"/content/UCI HAR Dataset/test/Inertial Signals/body_gyro_x_test.txt\", dtype=np.float32, delimiter=None)\n",
        "\n",
        "gyro_y_test = np.genfromtxt(\"/content/UCI HAR Dataset/test/Inertial Signals/body_gyro_y_test.txt\", dtype=np.float32, delimiter=None)\n",
        "\n",
        "gyro_z_test = np.genfromtxt(\"/content/UCI HAR Dataset/test/Inertial Signals/body_gyro_z_test.txt\", dtype=np.float32, delimiter=None)\n",
        "\n",
        "totalacc_x_test = np.genfromtxt(\"/content/UCI HAR Dataset/test/Inertial Signals/total_acc_x_test.txt\", dtype=np.float32, delimiter=None)\n",
        "\n",
        "totalacc_y_test = np.genfromtxt(\"/content/UCI HAR Dataset/test/Inertial Signals/total_acc_y_test.txt\", dtype=np.float32, delimiter=None)\n",
        "\n",
        "totalacc_z_test = np.genfromtxt(\"/content/UCI HAR Dataset/test/Inertial Signals/total_acc_z_test.txt\", dtype=np.float32, delimiter=None)"
      ],
      "metadata": {
        "id": "NNb3s04FMrNX"
      },
      "execution_count": null,
      "outputs": []
    },
    {
      "cell_type": "code",
      "source": [
        "labels_test = np.genfromtxt(\"/content/UCI HAR Dataset/test/y_test.txt\", dtype=np.int32, delimiter=None)\n",
        "labels_test.shape"
      ],
      "metadata": {
        "colab": {
          "base_uri": "https://localhost:8080/"
        },
        "id": "PerPssRBMu2M",
        "outputId": "0df3f780-1f75-4cce-9f6c-6f795c29ab6c"
      },
      "execution_count": null,
      "outputs": [
        {
          "output_type": "execute_result",
          "data": {
            "text/plain": [
              "(2947,)"
            ]
          },
          "metadata": {},
          "execution_count": 50
        }
      ]
    },
    {
      "cell_type": "markdown",
      "source": [
        "## Creating features for LSTM model.\n",
        "\n",
        "LSTM model is designed to handle the sequential data. Its important feature is that it has memory cells, which helps to retain the information and manipulate it.\n",
        "\n",
        "So we will create some features which can be used by the LSTM model including the raw inertial signals."
      ],
      "metadata": {
        "id": "vl3zXtMeNJuA"
      }
    },
    {
      "cell_type": "code",
      "source": [
        "total_acceleration = np.sqrt(np.square(acc_x_train) + np.square(acc_y_train) + np.square(acc_z_train))\n",
        "total_gyro = np.sqrt(np.square(gyro_x_train) + np.square(gyro_y_train) + np.square(gyro_z_train))\n",
        "\n",
        "total_acceleration.shape, total_gyro.shape"
      ],
      "metadata": {
        "colab": {
          "base_uri": "https://localhost:8080/"
        },
        "id": "Gjk8PXkbORIG",
        "outputId": "2b9f9432-05ba-4422-b0bf-2167af24e7b8"
      },
      "execution_count": null,
      "outputs": [
        {
          "output_type": "execute_result",
          "data": {
            "text/plain": [
              "((7352, 128), (7352, 128))"
            ]
          },
          "metadata": {},
          "execution_count": 51
        }
      ]
    },
    {
      "cell_type": "code",
      "source": [
        "total_acceleration_test = np.sqrt(np.square(acc_x_test) + np.square(acc_y_test) + np.square(acc_z_test))\n",
        "total_gyro_test = np.sqrt(np.square(gyro_x_test) + np.square(gyro_y_test) + np.square(gyro_z_test))\n",
        "\n",
        "total_acceleration_test.shape, total_gyro_test.shape"
      ],
      "metadata": {
        "colab": {
          "base_uri": "https://localhost:8080/"
        },
        "id": "0pJtaUu1VPjs",
        "outputId": "f9dfb994-f746-4330-ebbc-69104e9e3732"
      },
      "execution_count": null,
      "outputs": [
        {
          "output_type": "execute_result",
          "data": {
            "text/plain": [
              "((2947, 128), (2947, 128))"
            ]
          },
          "metadata": {},
          "execution_count": 52
        }
      ]
    },
    {
      "cell_type": "markdown",
      "metadata": {
        "id": "OOaNyFz9PCCb"
      },
      "source": [
        "## Training the LSTM model on features created by raw inertial data"
      ]
    },
    {
      "cell_type": "code",
      "execution_count": null,
      "metadata": {
        "id": "mEZohlzcPCCb"
      },
      "outputs": [],
      "source": [
        "import torch\n",
        "import torch.nn as nn\n",
        "import torch.optim as optim\n",
        "from torch.utils.data import Dataset, DataLoader"
      ]
    },
    {
      "cell_type": "code",
      "source": [
        "class HAR_Dataset(Dataset):\n",
        "    def __init__(self, features, labels):\n",
        "        self.features = torch.tensor(features, dtype=torch.float32)\n",
        "        self.labels = torch.tensor(labels, dtype=torch.long)\n",
        "\n",
        "    def __len__(self):\n",
        "        return len(self.features)\n",
        "\n",
        "    def __getitem__(self, idx):\n",
        "        return self.features[idx], self.labels[idx]\n"
      ],
      "metadata": {
        "id": "MUvC5JQhVKZ-"
      },
      "execution_count": null,
      "outputs": []
    },
    {
      "cell_type": "code",
      "source": [
        "# torch.nn.LSTM takes input as 3D tensor, which has three components sequence_length, batch_size, input_size.\n",
        "# Our sequence length is 7352 i.e. total instances of data.\n",
        "# batch size will be given later\n",
        "# input size will be 6 raw signals\n",
        "\n",
        "X_train = np.stack((acc_x_train, acc_y_train, acc_z_train, gyro_x_train, gyro_y_train, gyro_z_train), axis=2)\n",
        "X_test = np.stack((acc_x_test, acc_y_test, acc_z_test, gyro_x_test, gyro_y_test, gyro_z_test), axis=2)\n",
        "\n",
        "X_train.shape, X_test.shape"
      ],
      "metadata": {
        "colab": {
          "base_uri": "https://localhost:8080/"
        },
        "id": "urbGLOW3ZlZM",
        "outputId": "6fb88ab5-b518-4d14-ceba-cfae4fad2bc5"
      },
      "execution_count": null,
      "outputs": [
        {
          "output_type": "execute_result",
          "data": {
            "text/plain": [
              "((7352, 128, 6), (2947, 128, 6))"
            ]
          },
          "metadata": {},
          "execution_count": 55
        }
      ]
    },
    {
      "cell_type": "code",
      "source": [
        "device = torch.device(\"cuda\" if torch.cuda.is_available() else \"cpu\")\n",
        "X_test = torch.tensor(X_test, dtype=torch.float32).to(device)\n"
      ],
      "metadata": {
        "id": "mvHcFqjFXAH9"
      },
      "execution_count": null,
      "outputs": []
    },
    {
      "cell_type": "code",
      "source": [
        "# LSTM by torch expects data from [0, 5] instead of [1, 6] which was in the original dataset corresponding to 6 activites\n",
        "labels = labels - 1\n",
        "np.unique(labels)\n"
      ],
      "metadata": {
        "colab": {
          "base_uri": "https://localhost:8080/"
        },
        "id": "JLW3b_Ura0i9",
        "outputId": "faa3b51c-f5dd-4230-b751-ecd4cb27b72f"
      },
      "execution_count": null,
      "outputs": [
        {
          "output_type": "execute_result",
          "data": {
            "text/plain": [
              "array([0, 1, 2, 3, 4, 5], dtype=int32)"
            ]
          },
          "metadata": {},
          "execution_count": 57
        }
      ]
    },
    {
      "cell_type": "code",
      "source": [
        "labels_test = labels_test - 1\n",
        "np.unique(labels_test)"
      ],
      "metadata": {
        "colab": {
          "base_uri": "https://localhost:8080/"
        },
        "id": "_-PmSdnUiaoR",
        "outputId": "9d046f79-c85e-4227-98b5-4a7a05d2c8ad"
      },
      "execution_count": null,
      "outputs": [
        {
          "output_type": "execute_result",
          "data": {
            "text/plain": [
              "array([0, 1, 2, 3, 4, 5], dtype=int32)"
            ]
          },
          "metadata": {},
          "execution_count": 58
        }
      ]
    },
    {
      "cell_type": "markdown",
      "source": [
        "### Model 1 for the raw inertial signals"
      ],
      "metadata": {
        "id": "liWzoBZoajBj"
      }
    },
    {
      "cell_type": "code",
      "source": [
        "batch_size = 16\n",
        "dataset = HAR_Dataset(X_train, labels)\n",
        "dataloader = DataLoader(dataset, batch_size=batch_size, shuffle=True)"
      ],
      "metadata": {
        "id": "L6dO-_pGZpHb"
      },
      "execution_count": null,
      "outputs": []
    },
    {
      "cell_type": "code",
      "source": [
        "class LSTMModel(nn.Module):\n",
        "    def __init__(self, input_size, hidden_size, num_layers, num_classes):\n",
        "        super(LSTMModel, self).__init__()\n",
        "        self.lstm = nn.LSTM(input_size, hidden_size, num_layers, batch_first=True)\n",
        "        self.fc = nn.Linear(hidden_size, num_classes)\n",
        "\n",
        "    def forward(self, x):\n",
        "        h0 = torch.zeros(num_layers, x.size(0), hidden_size).to(x.device)\n",
        "        c0 = torch.zeros(num_layers, x.size(0), hidden_size).to(x.device)\n",
        "        out, _ = self.lstm(x, (h0, c0))\n",
        "        out = self.fc(out[:, -1, :])\n",
        "        return out"
      ],
      "metadata": {
        "id": "yu_4_5lfVzqd"
      },
      "execution_count": null,
      "outputs": []
    },
    {
      "cell_type": "code",
      "source": [
        "input_size = 6\n",
        "hidden_size = 32\n",
        "num_layers = 3\n",
        "num_classes = len(np.unique(labels))\n",
        "learning_rate = 0.00001\n",
        "num_epochs = 100\n",
        "\n",
        "model = LSTMModel(input_size, hidden_size, num_layers, num_classes).to(device)\n",
        "criterion = nn.CrossEntropyLoss()\n",
        "optimizer = optim.Adam(model.parameters(), lr=learning_rate)"
      ],
      "metadata": {
        "id": "dlCZUYepV_ie"
      },
      "execution_count": null,
      "outputs": []
    },
    {
      "cell_type": "code",
      "source": [
        "for epoch in range(num_epochs):\n",
        "    for inputs, targets in dataloader:\n",
        "        inputs = inputs.to(device)\n",
        "        targets = targets.to(device)\n",
        "        outputs = model(inputs)\n",
        "        loss = criterion(outputs, targets)\n",
        "        optimizer.zero_grad()\n",
        "        loss.backward()\n",
        "        optimizer.step()\n",
        "\n",
        "    print(f'Epoch [{epoch+1}/{num_epochs}], Loss: {loss.item():.4f}')\n",
        "\n"
      ],
      "metadata": {
        "colab": {
          "base_uri": "https://localhost:8080/"
        },
        "id": "k_yOzUvpWL6c",
        "outputId": "9a201263-ca72-4e5c-de8f-6a385e04b963"
      },
      "execution_count": null,
      "outputs": [
        {
          "output_type": "stream",
          "name": "stdout",
          "text": [
            "Epoch [1/100], Loss: 1.7491\n",
            "Epoch [2/100], Loss: 1.7827\n",
            "Epoch [3/100], Loss: 1.7571\n",
            "Epoch [4/100], Loss: 1.8415\n",
            "Epoch [5/100], Loss: 1.7709\n",
            "Epoch [6/100], Loss: 1.8286\n",
            "Epoch [7/100], Loss: 1.8038\n",
            "Epoch [8/100], Loss: 1.8109\n",
            "Epoch [9/100], Loss: 1.7276\n",
            "Epoch [10/100], Loss: 1.7638\n",
            "Epoch [11/100], Loss: 1.8005\n",
            "Epoch [12/100], Loss: 1.7911\n",
            "Epoch [13/100], Loss: 1.7921\n",
            "Epoch [14/100], Loss: 1.8206\n",
            "Epoch [15/100], Loss: 1.8086\n",
            "Epoch [16/100], Loss: 1.7933\n",
            "Epoch [17/100], Loss: 1.8140\n",
            "Epoch [18/100], Loss: 1.7736\n",
            "Epoch [19/100], Loss: 1.6572\n",
            "Epoch [20/100], Loss: 1.6416\n",
            "Epoch [21/100], Loss: 1.7310\n",
            "Epoch [22/100], Loss: 1.7028\n",
            "Epoch [23/100], Loss: 1.5118\n",
            "Epoch [24/100], Loss: 1.3914\n",
            "Epoch [25/100], Loss: 1.3347\n",
            "Epoch [26/100], Loss: 1.2817\n",
            "Epoch [27/100], Loss: 1.3760\n",
            "Epoch [28/100], Loss: 1.3458\n",
            "Epoch [29/100], Loss: 1.2326\n",
            "Epoch [30/100], Loss: 1.1961\n",
            "Epoch [31/100], Loss: 1.2242\n",
            "Epoch [32/100], Loss: 1.1842\n",
            "Epoch [33/100], Loss: 1.3204\n",
            "Epoch [34/100], Loss: 1.1123\n",
            "Epoch [35/100], Loss: 1.0751\n",
            "Epoch [36/100], Loss: 1.2282\n",
            "Epoch [37/100], Loss: 1.1282\n",
            "Epoch [38/100], Loss: 1.1506\n",
            "Epoch [39/100], Loss: 1.1333\n",
            "Epoch [40/100], Loss: 0.9700\n",
            "Epoch [41/100], Loss: 1.0212\n",
            "Epoch [42/100], Loss: 1.2437\n",
            "Epoch [43/100], Loss: 1.4138\n",
            "Epoch [44/100], Loss: 1.1488\n",
            "Epoch [45/100], Loss: 1.0568\n",
            "Epoch [46/100], Loss: 1.1076\n",
            "Epoch [47/100], Loss: 1.0889\n",
            "Epoch [48/100], Loss: 1.0985\n",
            "Epoch [49/100], Loss: 1.1046\n",
            "Epoch [50/100], Loss: 1.4045\n",
            "Epoch [51/100], Loss: 1.1438\n",
            "Epoch [52/100], Loss: 1.1168\n",
            "Epoch [53/100], Loss: 1.1218\n",
            "Epoch [54/100], Loss: 1.0949\n",
            "Epoch [55/100], Loss: 1.5313\n",
            "Epoch [56/100], Loss: 1.1466\n",
            "Epoch [57/100], Loss: 1.0269\n",
            "Epoch [58/100], Loss: 1.0986\n",
            "Epoch [59/100], Loss: 1.2772\n",
            "Epoch [60/100], Loss: 1.0612\n",
            "Epoch [61/100], Loss: 1.3448\n",
            "Epoch [62/100], Loss: 1.2079\n",
            "Epoch [63/100], Loss: 1.1351\n",
            "Epoch [64/100], Loss: 1.1340\n",
            "Epoch [65/100], Loss: 1.0398\n",
            "Epoch [66/100], Loss: 1.0469\n",
            "Epoch [67/100], Loss: 0.9602\n",
            "Epoch [68/100], Loss: 1.1145\n",
            "Epoch [69/100], Loss: 1.1042\n",
            "Epoch [70/100], Loss: 1.0002\n",
            "Epoch [71/100], Loss: 1.0286\n",
            "Epoch [72/100], Loss: 1.0090\n",
            "Epoch [73/100], Loss: 1.0112\n",
            "Epoch [74/100], Loss: 0.9188\n",
            "Epoch [75/100], Loss: 1.1637\n",
            "Epoch [76/100], Loss: 1.2656\n",
            "Epoch [77/100], Loss: 1.1238\n",
            "Epoch [78/100], Loss: 1.0900\n",
            "Epoch [79/100], Loss: 1.1198\n",
            "Epoch [80/100], Loss: 1.4375\n",
            "Epoch [81/100], Loss: 1.1911\n",
            "Epoch [82/100], Loss: 1.0500\n",
            "Epoch [83/100], Loss: 1.0823\n",
            "Epoch [84/100], Loss: 0.8818\n",
            "Epoch [85/100], Loss: 1.0036\n",
            "Epoch [86/100], Loss: 1.0766\n",
            "Epoch [87/100], Loss: 1.1346\n",
            "Epoch [88/100], Loss: 1.0575\n",
            "Epoch [89/100], Loss: 1.0885\n",
            "Epoch [90/100], Loss: 1.1390\n",
            "Epoch [91/100], Loss: 1.1003\n",
            "Epoch [92/100], Loss: 1.1747\n",
            "Epoch [93/100], Loss: 1.0358\n",
            "Epoch [94/100], Loss: 0.9207\n",
            "Epoch [95/100], Loss: 1.1042\n",
            "Epoch [96/100], Loss: 1.0755\n",
            "Epoch [97/100], Loss: 1.1455\n",
            "Epoch [98/100], Loss: 1.0007\n",
            "Epoch [99/100], Loss: 1.0537\n",
            "Epoch [100/100], Loss: 1.3589\n"
          ]
        }
      ]
    },
    {
      "cell_type": "code",
      "source": [
        "model.eval()\n",
        "with torch.no_grad():\n",
        "    outputs = model(X_test)\n",
        "    _, predicted = torch.max(outputs.data, 1)\n",
        "    predicted = predicted.cpu().numpy()\n",
        "    accuracy = np.mean(predicted == labels_test)\n",
        "    print(f'Test Accuracy: {accuracy:.4f}')"
      ],
      "metadata": {
        "colab": {
          "base_uri": "https://localhost:8080/"
        },
        "id": "noAp6Edpfg3e",
        "outputId": "d5e1c0fb-4845-4f6b-d30f-f916c013570b"
      },
      "execution_count": null,
      "outputs": [
        {
          "output_type": "stream",
          "name": "stdout",
          "text": [
            "Test Accuracy: 0.4041\n"
          ]
        }
      ]
    },
    {
      "cell_type": "markdown",
      "source": [
        "### Model 2 for the features created by us"
      ],
      "metadata": {
        "id": "D_S6AiWgaoDi"
      }
    },
    {
      "cell_type": "code",
      "source": [
        "X_train_new_features = np.stack((total_acceleration, total_gyro), axis=2)\n",
        "X_test_new_features = np.stack((total_acceleration_test, total_gyro_test), axis=2)\n",
        "\n",
        "\n",
        "dataset_new_features = HAR_Dataset(X_train_new_features, labels)\n",
        "dataloader_new_features = DataLoader(dataset_new_features, batch_size=batch_size, shuffle=True)\n",
        "\n",
        "input_size = 2\n",
        "hidden_size = 64\n",
        "num_layers = 3\n",
        "num_classes = len(np.unique(labels))\n",
        "learning_rate = 0.0001\n",
        "num_epochs = 50\n",
        "\n",
        "model_new_features = LSTMModel(input_size, hidden_size, num_layers, num_classes).to(device)\n",
        "criterion = nn.CrossEntropyLoss()\n",
        "optimizer = optim.Adam(model_new_features.parameters(), lr=learning_rate)\n",
        "\n"
      ],
      "metadata": {
        "id": "im4ZL_ioYclx"
      },
      "execution_count": null,
      "outputs": []
    },
    {
      "cell_type": "code",
      "source": [
        "for epoch in range(num_epochs):\n",
        "    for inputs, targets in dataloader_new_features:\n",
        "        inputs = inputs.to(device)\n",
        "        targets = targets.to(device)\n",
        "        outputs = model_new_features(inputs)\n",
        "        loss = criterion(outputs, targets)\n",
        "        optimizer.zero_grad()\n",
        "        loss.backward()\n",
        "        optimizer.step()\n",
        "\n",
        "    print(f'Epoch [{epoch+1}/{num_epochs}], Loss: {loss.item():.4f}')"
      ],
      "metadata": {
        "colab": {
          "base_uri": "https://localhost:8080/"
        },
        "id": "6-7perGKZHb1",
        "outputId": "a0d39b0f-cdcc-4879-e5a7-0572aaa46ca6"
      },
      "execution_count": null,
      "outputs": [
        {
          "output_type": "stream",
          "name": "stdout",
          "text": [
            "Epoch [1/50], Loss: 1.0842\n",
            "Epoch [2/50], Loss: 1.1244\n",
            "Epoch [3/50], Loss: 1.1272\n",
            "Epoch [4/50], Loss: 1.0440\n",
            "Epoch [5/50], Loss: 1.0609\n",
            "Epoch [6/50], Loss: 1.1292\n",
            "Epoch [7/50], Loss: 1.0577\n",
            "Epoch [8/50], Loss: 1.0445\n",
            "Epoch [9/50], Loss: 1.1299\n",
            "Epoch [10/50], Loss: 1.0193\n",
            "Epoch [11/50], Loss: 1.1643\n",
            "Epoch [12/50], Loss: 1.0630\n",
            "Epoch [13/50], Loss: 1.1959\n",
            "Epoch [14/50], Loss: 1.0462\n",
            "Epoch [15/50], Loss: 1.1264\n",
            "Epoch [16/50], Loss: 1.0531\n",
            "Epoch [17/50], Loss: 1.1048\n",
            "Epoch [18/50], Loss: 1.1288\n",
            "Epoch [19/50], Loss: 1.0376\n",
            "Epoch [20/50], Loss: 0.9940\n",
            "Epoch [21/50], Loss: 1.1520\n",
            "Epoch [22/50], Loss: 1.1065\n",
            "Epoch [23/50], Loss: 1.0016\n",
            "Epoch [24/50], Loss: 1.0259\n",
            "Epoch [25/50], Loss: 1.1577\n",
            "Epoch [26/50], Loss: 0.9374\n",
            "Epoch [27/50], Loss: 1.0026\n",
            "Epoch [28/50], Loss: 1.0929\n",
            "Epoch [29/50], Loss: 1.1672\n",
            "Epoch [30/50], Loss: 0.9605\n",
            "Epoch [31/50], Loss: 1.2134\n",
            "Epoch [32/50], Loss: 1.0154\n",
            "Epoch [33/50], Loss: 1.0742\n",
            "Epoch [34/50], Loss: 1.1455\n",
            "Epoch [35/50], Loss: 0.7975\n",
            "Epoch [36/50], Loss: 0.8946\n",
            "Epoch [37/50], Loss: 1.0638\n",
            "Epoch [38/50], Loss: 1.0448\n",
            "Epoch [39/50], Loss: 1.1965\n",
            "Epoch [40/50], Loss: 1.0899\n",
            "Epoch [41/50], Loss: 0.9735\n",
            "Epoch [42/50], Loss: 0.9445\n",
            "Epoch [43/50], Loss: 1.5226\n",
            "Epoch [44/50], Loss: 1.2805\n",
            "Epoch [45/50], Loss: 1.0960\n",
            "Epoch [46/50], Loss: 1.0501\n",
            "Epoch [47/50], Loss: 1.0284\n",
            "Epoch [48/50], Loss: 1.1434\n",
            "Epoch [49/50], Loss: 1.0999\n",
            "Epoch [50/50], Loss: 1.0423\n"
          ]
        }
      ]
    },
    {
      "cell_type": "code",
      "source": [
        "X_test_new_features = torch.tensor(X_test_new_features, dtype=torch.float32).to(device)"
      ],
      "metadata": {
        "id": "6qHjdZWSZ9qM"
      },
      "execution_count": null,
      "outputs": []
    },
    {
      "cell_type": "code",
      "source": [
        "model_new_features.eval()\n",
        "with torch.no_grad():\n",
        "    outputs = model_new_features(X_test_new_features)\n",
        "    _, predicted = torch.max(outputs.data, 1)\n",
        "    predicted = predicted.cpu().numpy()\n",
        "    accuracy = np.mean(predicted == labels_test)\n",
        "    print(f'Test Accuracy: {accuracy:.4f}')"
      ],
      "metadata": {
        "colab": {
          "base_uri": "https://localhost:8080/"
        },
        "id": "NT_odqWZZcFR",
        "outputId": "ef0fb376-c2b6-4364-ae80-16d5373d15e1"
      },
      "execution_count": null,
      "outputs": [
        {
          "output_type": "stream",
          "name": "stdout",
          "text": [
            "Test Accuracy: 0.4150\n"
          ]
        }
      ]
    },
    {
      "cell_type": "code",
      "source": [],
      "metadata": {
        "id": "wnXyqul2ZcAD"
      },
      "execution_count": null,
      "outputs": []
    },
    {
      "cell_type": "markdown",
      "source": [
        "## CNN-LSTM model\n",
        "\n",
        "This model will begin with a 1D convolutional layer  with 64 filters and a kernel size of 3, followed by a max-pooling layer and flattening. To maintain the temporal structure of the data, all convolutional layers will be wrapped in a TimeDistributed layer, which takes reshaped input signals (from (None, 128, 9) to (None, 4, 32, 9)). The extracted features will then be passed to an LSTM layer with 128 units to capture temporal dependencies, followed by a fully connected layer with a softmax activation for 6-class classification.\n",
        "\n",
        "\n",
        "The two models trained below are inspired from the paper **A CNN-LSTM Approach to Human Activity Recognition** by **Ronald Mutegeki** and **Dong Seog Han**."
      ],
      "metadata": {
        "id": "Lgw8BKpAiBI3"
      }
    },
    {
      "cell_type": "markdown",
      "source": [
        "#### Data Preparation"
      ],
      "metadata": {
        "id": "XQEYPJeJnxkj"
      }
    },
    {
      "cell_type": "code",
      "source": [
        "X_train = np.stack((acc_x_train, acc_y_train, acc_z_train, gyro_x_train, gyro_y_train, gyro_z_train, totalacc_x_train, totalacc_y_train, totalacc_z_train), axis=2)\n",
        "X_test = np.stack((acc_x_test, acc_y_test, acc_z_test, gyro_x_test, gyro_y_test, gyro_z_test, totalacc_x_test, totalacc_y_test, totalacc_z_test), axis=2)\n",
        "\n",
        "X_train.shape, X_test.shape"
      ],
      "metadata": {
        "id": "AfyBgLgsiAtm",
        "colab": {
          "base_uri": "https://localhost:8080/"
        },
        "outputId": "75808c10-b672-40cc-8228-af1591053371"
      },
      "execution_count": null,
      "outputs": [
        {
          "output_type": "execute_result",
          "data": {
            "text/plain": [
              "((7352, 128, 9), (2947, 128, 9))"
            ]
          },
          "metadata": {},
          "execution_count": 68
        }
      ]
    },
    {
      "cell_type": "code",
      "source": [
        "X_train = X_train.reshape(-1, 4, 32, 9)\n",
        "X_train.shape"
      ],
      "metadata": {
        "colab": {
          "base_uri": "https://localhost:8080/"
        },
        "id": "QeDjU4Froo0f",
        "outputId": "832b3538-0cd7-4664-f3a5-b28cd0ccadd7"
      },
      "execution_count": null,
      "outputs": [
        {
          "output_type": "execute_result",
          "data": {
            "text/plain": [
              "(7352, 4, 32, 9)"
            ]
          },
          "metadata": {},
          "execution_count": 69
        }
      ]
    },
    {
      "cell_type": "code",
      "source": [
        "X_train.shape"
      ],
      "metadata": {
        "colab": {
          "base_uri": "https://localhost:8080/"
        },
        "id": "qZMRsk0VDizZ",
        "outputId": "398a110d-d9f8-452f-ff58-fded76484db7"
      },
      "execution_count": null,
      "outputs": [
        {
          "output_type": "execute_result",
          "data": {
            "text/plain": [
              "(7352, 4, 32, 9)"
            ]
          },
          "metadata": {},
          "execution_count": 70
        }
      ]
    },
    {
      "cell_type": "code",
      "source": [
        "X_test = X_test.reshape(-1, 4, 32, 9)\n",
        "X_test.shape"
      ],
      "metadata": {
        "colab": {
          "base_uri": "https://localhost:8080/"
        },
        "id": "-UMN8-fZbjqI",
        "outputId": "0b4ecf03-8e0d-4e2c-827a-4d4132009e3d"
      },
      "execution_count": null,
      "outputs": [
        {
          "output_type": "execute_result",
          "data": {
            "text/plain": [
              "(2947, 4, 32, 9)"
            ]
          },
          "metadata": {},
          "execution_count": 77
        }
      ]
    },
    {
      "cell_type": "markdown",
      "source": [
        "#### Building the model"
      ],
      "metadata": {
        "id": "xGzttCHdrAqJ"
      }
    },
    {
      "cell_type": "code",
      "source": [
        "from tensorflow.keras.models import Sequential\n",
        "from tensorflow.keras.layers import Input, Conv1D, MaxPooling1D, Flatten, LSTM, Dense, TimeDistributed\n",
        "from tensorflow.keras.optimizers import Adam\n",
        "from tensorflow.keras.losses import SparseCategoricalCrossentropy"
      ],
      "metadata": {
        "id": "gmJNvxnk-N9b"
      },
      "execution_count": null,
      "outputs": []
    },
    {
      "cell_type": "code",
      "source": [
        "def create_model(input_shape, num_classes):\n",
        "    model = Sequential([\n",
        "        Input(shape=input_shape),\n",
        "\n",
        "        TimeDistributed(Conv1D(64, 3, activation='relu')),\n",
        "        TimeDistributed(MaxPooling1D(2)),\n",
        "        TimeDistributed(Flatten()),\n",
        "\n",
        "        LSTM(128, activation='tanh'),\n",
        "\n",
        "        Dense(num_classes, activation='softmax')\n",
        "    ])\n",
        "\n",
        "    return model\n",
        "\n",
        "model = create_model(input_shape=(4, 32, 9), num_classes=6)\n"
      ],
      "metadata": {
        "id": "xRziTfW2rCwD"
      },
      "execution_count": null,
      "outputs": []
    },
    {
      "cell_type": "code",
      "source": [
        "model.compile(\n",
        "    optimizer=Adam(learning_rate=0.0001),\n",
        "    loss=SparseCategoricalCrossentropy(),\n",
        "    metrics=['accuracy']\n",
        ")\n",
        "\n",
        "model.summary()\n"
      ],
      "metadata": {
        "colab": {
          "base_uri": "https://localhost:8080/",
          "height": 397
        },
        "id": "TWDpjFRk_-x2",
        "outputId": "4be61427-62a1-497e-9f29-4b8b01068098"
      },
      "execution_count": null,
      "outputs": [
        {
          "output_type": "display_data",
          "data": {
            "text/plain": [
              "\u001b[1mModel: \"sequential_4\"\u001b[0m\n"
            ],
            "text/html": [
              "<pre style=\"white-space:pre;overflow-x:auto;line-height:normal;font-family:Menlo,'DejaVu Sans Mono',consolas,'Courier New',monospace\"><span style=\"font-weight: bold\">Model: \"sequential_4\"</span>\n",
              "</pre>\n"
            ]
          },
          "metadata": {}
        },
        {
          "output_type": "display_data",
          "data": {
            "text/plain": [
              "┏━━━━━━━━━━━━━━━━━━━━━━━━━━━━━━━━━━━━━━┳━━━━━━━━━━━━━━━━━━━━━━━━━━━━━┳━━━━━━━━━━━━━━━━━┓\n",
              "┃\u001b[1m \u001b[0m\u001b[1mLayer (type)                        \u001b[0m\u001b[1m \u001b[0m┃\u001b[1m \u001b[0m\u001b[1mOutput Shape               \u001b[0m\u001b[1m \u001b[0m┃\u001b[1m \u001b[0m\u001b[1m        Param #\u001b[0m\u001b[1m \u001b[0m┃\n",
              "┡━━━━━━━━━━━━━━━━━━━━━━━━━━━━━━━━━━━━━━╇━━━━━━━━━━━━━━━━━━━━━━━━━━━━━╇━━━━━━━━━━━━━━━━━┩\n",
              "│ time_distributed_12                  │ (\u001b[38;5;45mNone\u001b[0m, \u001b[38;5;34m4\u001b[0m, \u001b[38;5;34m30\u001b[0m, \u001b[38;5;34m64\u001b[0m)           │           \u001b[38;5;34m1,792\u001b[0m │\n",
              "│ (\u001b[38;5;33mTimeDistributed\u001b[0m)                    │                             │                 │\n",
              "├──────────────────────────────────────┼─────────────────────────────┼─────────────────┤\n",
              "│ time_distributed_13                  │ (\u001b[38;5;45mNone\u001b[0m, \u001b[38;5;34m4\u001b[0m, \u001b[38;5;34m15\u001b[0m, \u001b[38;5;34m64\u001b[0m)           │               \u001b[38;5;34m0\u001b[0m │\n",
              "│ (\u001b[38;5;33mTimeDistributed\u001b[0m)                    │                             │                 │\n",
              "├──────────────────────────────────────┼─────────────────────────────┼─────────────────┤\n",
              "│ time_distributed_14                  │ (\u001b[38;5;45mNone\u001b[0m, \u001b[38;5;34m4\u001b[0m, \u001b[38;5;34m960\u001b[0m)              │               \u001b[38;5;34m0\u001b[0m │\n",
              "│ (\u001b[38;5;33mTimeDistributed\u001b[0m)                    │                             │                 │\n",
              "├──────────────────────────────────────┼─────────────────────────────┼─────────────────┤\n",
              "│ lstm_4 (\u001b[38;5;33mLSTM\u001b[0m)                        │ (\u001b[38;5;45mNone\u001b[0m, \u001b[38;5;34m128\u001b[0m)                 │         \u001b[38;5;34m557,568\u001b[0m │\n",
              "├──────────────────────────────────────┼─────────────────────────────┼─────────────────┤\n",
              "│ dense_12 (\u001b[38;5;33mDense\u001b[0m)                     │ (\u001b[38;5;45mNone\u001b[0m, \u001b[38;5;34m6\u001b[0m)                   │             \u001b[38;5;34m774\u001b[0m │\n",
              "└──────────────────────────────────────┴─────────────────────────────┴─────────────────┘\n"
            ],
            "text/html": [
              "<pre style=\"white-space:pre;overflow-x:auto;line-height:normal;font-family:Menlo,'DejaVu Sans Mono',consolas,'Courier New',monospace\">┏━━━━━━━━━━━━━━━━━━━━━━━━━━━━━━━━━━━━━━┳━━━━━━━━━━━━━━━━━━━━━━━━━━━━━┳━━━━━━━━━━━━━━━━━┓\n",
              "┃<span style=\"font-weight: bold\"> Layer (type)                         </span>┃<span style=\"font-weight: bold\"> Output Shape                </span>┃<span style=\"font-weight: bold\">         Param # </span>┃\n",
              "┡━━━━━━━━━━━━━━━━━━━━━━━━━━━━━━━━━━━━━━╇━━━━━━━━━━━━━━━━━━━━━━━━━━━━━╇━━━━━━━━━━━━━━━━━┩\n",
              "│ time_distributed_12                  │ (<span style=\"color: #00d7ff; text-decoration-color: #00d7ff\">None</span>, <span style=\"color: #00af00; text-decoration-color: #00af00\">4</span>, <span style=\"color: #00af00; text-decoration-color: #00af00\">30</span>, <span style=\"color: #00af00; text-decoration-color: #00af00\">64</span>)           │           <span style=\"color: #00af00; text-decoration-color: #00af00\">1,792</span> │\n",
              "│ (<span style=\"color: #0087ff; text-decoration-color: #0087ff\">TimeDistributed</span>)                    │                             │                 │\n",
              "├──────────────────────────────────────┼─────────────────────────────┼─────────────────┤\n",
              "│ time_distributed_13                  │ (<span style=\"color: #00d7ff; text-decoration-color: #00d7ff\">None</span>, <span style=\"color: #00af00; text-decoration-color: #00af00\">4</span>, <span style=\"color: #00af00; text-decoration-color: #00af00\">15</span>, <span style=\"color: #00af00; text-decoration-color: #00af00\">64</span>)           │               <span style=\"color: #00af00; text-decoration-color: #00af00\">0</span> │\n",
              "│ (<span style=\"color: #0087ff; text-decoration-color: #0087ff\">TimeDistributed</span>)                    │                             │                 │\n",
              "├──────────────────────────────────────┼─────────────────────────────┼─────────────────┤\n",
              "│ time_distributed_14                  │ (<span style=\"color: #00d7ff; text-decoration-color: #00d7ff\">None</span>, <span style=\"color: #00af00; text-decoration-color: #00af00\">4</span>, <span style=\"color: #00af00; text-decoration-color: #00af00\">960</span>)              │               <span style=\"color: #00af00; text-decoration-color: #00af00\">0</span> │\n",
              "│ (<span style=\"color: #0087ff; text-decoration-color: #0087ff\">TimeDistributed</span>)                    │                             │                 │\n",
              "├──────────────────────────────────────┼─────────────────────────────┼─────────────────┤\n",
              "│ lstm_4 (<span style=\"color: #0087ff; text-decoration-color: #0087ff\">LSTM</span>)                        │ (<span style=\"color: #00d7ff; text-decoration-color: #00d7ff\">None</span>, <span style=\"color: #00af00; text-decoration-color: #00af00\">128</span>)                 │         <span style=\"color: #00af00; text-decoration-color: #00af00\">557,568</span> │\n",
              "├──────────────────────────────────────┼─────────────────────────────┼─────────────────┤\n",
              "│ dense_12 (<span style=\"color: #0087ff; text-decoration-color: #0087ff\">Dense</span>)                     │ (<span style=\"color: #00d7ff; text-decoration-color: #00d7ff\">None</span>, <span style=\"color: #00af00; text-decoration-color: #00af00\">6</span>)                   │             <span style=\"color: #00af00; text-decoration-color: #00af00\">774</span> │\n",
              "└──────────────────────────────────────┴─────────────────────────────┴─────────────────┘\n",
              "</pre>\n"
            ]
          },
          "metadata": {}
        },
        {
          "output_type": "display_data",
          "data": {
            "text/plain": [
              "\u001b[1m Total params: \u001b[0m\u001b[38;5;34m560,134\u001b[0m (2.14 MB)\n"
            ],
            "text/html": [
              "<pre style=\"white-space:pre;overflow-x:auto;line-height:normal;font-family:Menlo,'DejaVu Sans Mono',consolas,'Courier New',monospace\"><span style=\"font-weight: bold\"> Total params: </span><span style=\"color: #00af00; text-decoration-color: #00af00\">560,134</span> (2.14 MB)\n",
              "</pre>\n"
            ]
          },
          "metadata": {}
        },
        {
          "output_type": "display_data",
          "data": {
            "text/plain": [
              "\u001b[1m Trainable params: \u001b[0m\u001b[38;5;34m560,134\u001b[0m (2.14 MB)\n"
            ],
            "text/html": [
              "<pre style=\"white-space:pre;overflow-x:auto;line-height:normal;font-family:Menlo,'DejaVu Sans Mono',consolas,'Courier New',monospace\"><span style=\"font-weight: bold\"> Trainable params: </span><span style=\"color: #00af00; text-decoration-color: #00af00\">560,134</span> (2.14 MB)\n",
              "</pre>\n"
            ]
          },
          "metadata": {}
        },
        {
          "output_type": "display_data",
          "data": {
            "text/plain": [
              "\u001b[1m Non-trainable params: \u001b[0m\u001b[38;5;34m0\u001b[0m (0.00 B)\n"
            ],
            "text/html": [
              "<pre style=\"white-space:pre;overflow-x:auto;line-height:normal;font-family:Menlo,'DejaVu Sans Mono',consolas,'Courier New',monospace\"><span style=\"font-weight: bold\"> Non-trainable params: </span><span style=\"color: #00af00; text-decoration-color: #00af00\">0</span> (0.00 B)\n",
              "</pre>\n"
            ]
          },
          "metadata": {}
        }
      ]
    },
    {
      "cell_type": "markdown",
      "source": [
        "#### Training and Testing the model"
      ],
      "metadata": {
        "id": "GgXIwK1nBJoc"
      }
    },
    {
      "cell_type": "code",
      "source": [
        "history = model.fit(\n",
        "    X_train,\n",
        "    labels,\n",
        "    batch_size=32,\n",
        "    epochs=50,\n",
        "    validation_split=0.2\n",
        ")"
      ],
      "metadata": {
        "colab": {
          "base_uri": "https://localhost:8080/"
        },
        "id": "7Cth2fXUAXbe",
        "outputId": "ec06420d-32d1-4a75-9bde-d69b58f98280"
      },
      "execution_count": null,
      "outputs": [
        {
          "output_type": "stream",
          "name": "stdout",
          "text": [
            "Epoch 1/50\n",
            "\u001b[1m184/184\u001b[0m \u001b[32m━━━━━━━━━━━━━━━━━━━━\u001b[0m\u001b[37m\u001b[0m \u001b[1m4s\u001b[0m 10ms/step - accuracy: 0.5239 - loss: 1.3218 - val_accuracy: 0.7369 - val_loss: 0.6760\n",
            "Epoch 2/50\n",
            "\u001b[1m184/184\u001b[0m \u001b[32m━━━━━━━━━━━━━━━━━━━━\u001b[0m\u001b[37m\u001b[0m \u001b[1m1s\u001b[0m 7ms/step - accuracy: 0.8132 - loss: 0.4836 - val_accuracy: 0.7954 - val_loss: 0.5543\n",
            "Epoch 3/50\n",
            "\u001b[1m184/184\u001b[0m \u001b[32m━━━━━━━━━━━━━━━━━━━━\u001b[0m\u001b[37m\u001b[0m \u001b[1m3s\u001b[0m 8ms/step - accuracy: 0.8874 - loss: 0.3339 - val_accuracy: 0.8681 - val_loss: 0.4560\n",
            "Epoch 4/50\n",
            "\u001b[1m184/184\u001b[0m \u001b[32m━━━━━━━━━━━━━━━━━━━━\u001b[0m\u001b[37m\u001b[0m \u001b[1m2s\u001b[0m 8ms/step - accuracy: 0.9056 - loss: 0.2583 - val_accuracy: 0.8817 - val_loss: 0.4242\n",
            "Epoch 5/50\n",
            "\u001b[1m184/184\u001b[0m \u001b[32m━━━━━━━━━━━━━━━━━━━━\u001b[0m\u001b[37m\u001b[0m \u001b[1m1s\u001b[0m 7ms/step - accuracy: 0.9303 - loss: 0.1976 - val_accuracy: 0.8756 - val_loss: 0.4206\n",
            "Epoch 6/50\n",
            "\u001b[1m184/184\u001b[0m \u001b[32m━━━━━━━━━━━━━━━━━━━━\u001b[0m\u001b[37m\u001b[0m \u001b[1m1s\u001b[0m 6ms/step - accuracy: 0.9401 - loss: 0.1682 - val_accuracy: 0.8872 - val_loss: 0.4006\n",
            "Epoch 7/50\n",
            "\u001b[1m184/184\u001b[0m \u001b[32m━━━━━━━━━━━━━━━━━━━━\u001b[0m\u001b[37m\u001b[0m \u001b[1m1s\u001b[0m 7ms/step - accuracy: 0.9479 - loss: 0.1439 - val_accuracy: 0.8960 - val_loss: 0.3849\n",
            "Epoch 8/50\n",
            "\u001b[1m184/184\u001b[0m \u001b[32m━━━━━━━━━━━━━━━━━━━━\u001b[0m\u001b[37m\u001b[0m \u001b[1m1s\u001b[0m 6ms/step - accuracy: 0.9509 - loss: 0.1336 - val_accuracy: 0.8946 - val_loss: 0.4012\n",
            "Epoch 9/50\n",
            "\u001b[1m184/184\u001b[0m \u001b[32m━━━━━━━━━━━━━━━━━━━━\u001b[0m\u001b[37m\u001b[0m \u001b[1m1s\u001b[0m 6ms/step - accuracy: 0.9582 - loss: 0.1166 - val_accuracy: 0.8980 - val_loss: 0.3951\n",
            "Epoch 10/50\n",
            "\u001b[1m184/184\u001b[0m \u001b[32m━━━━━━━━━━━━━━━━━━━━\u001b[0m\u001b[37m\u001b[0m \u001b[1m1s\u001b[0m 7ms/step - accuracy: 0.9603 - loss: 0.1084 - val_accuracy: 0.9001 - val_loss: 0.3999\n",
            "Epoch 11/50\n",
            "\u001b[1m184/184\u001b[0m \u001b[32m━━━━━━━━━━━━━━━━━━━━\u001b[0m\u001b[37m\u001b[0m \u001b[1m1s\u001b[0m 7ms/step - accuracy: 0.9582 - loss: 0.1055 - val_accuracy: 0.8960 - val_loss: 0.4067\n",
            "Epoch 12/50\n",
            "\u001b[1m184/184\u001b[0m \u001b[32m━━━━━━━━━━━━━━━━━━━━\u001b[0m\u001b[37m\u001b[0m \u001b[1m3s\u001b[0m 9ms/step - accuracy: 0.9561 - loss: 0.1035 - val_accuracy: 0.8960 - val_loss: 0.4224\n",
            "Epoch 13/50\n",
            "\u001b[1m184/184\u001b[0m \u001b[32m━━━━━━━━━━━━━━━━━━━━\u001b[0m\u001b[37m\u001b[0m \u001b[1m2s\u001b[0m 7ms/step - accuracy: 0.9621 - loss: 0.0963 - val_accuracy: 0.8960 - val_loss: 0.4258\n",
            "Epoch 14/50\n",
            "\u001b[1m184/184\u001b[0m \u001b[32m━━━━━━━━━━━━━━━━━━━━\u001b[0m\u001b[37m\u001b[0m \u001b[1m1s\u001b[0m 6ms/step - accuracy: 0.9630 - loss: 0.0929 - val_accuracy: 0.9041 - val_loss: 0.4369\n",
            "Epoch 15/50\n",
            "\u001b[1m184/184\u001b[0m \u001b[32m━━━━━━━━━━━━━━━━━━━━\u001b[0m\u001b[37m\u001b[0m \u001b[1m1s\u001b[0m 7ms/step - accuracy: 0.9629 - loss: 0.0880 - val_accuracy: 0.9062 - val_loss: 0.4157\n",
            "Epoch 16/50\n",
            "\u001b[1m184/184\u001b[0m \u001b[32m━━━━━━━━━━━━━━━━━━━━\u001b[0m\u001b[37m\u001b[0m \u001b[1m1s\u001b[0m 6ms/step - accuracy: 0.9602 - loss: 0.0894 - val_accuracy: 0.9041 - val_loss: 0.4371\n",
            "Epoch 17/50\n",
            "\u001b[1m184/184\u001b[0m \u001b[32m━━━━━━━━━━━━━━━━━━━━\u001b[0m\u001b[37m\u001b[0m \u001b[1m1s\u001b[0m 6ms/step - accuracy: 0.9626 - loss: 0.0856 - val_accuracy: 0.9007 - val_loss: 0.4581\n",
            "Epoch 18/50\n",
            "\u001b[1m184/184\u001b[0m \u001b[32m━━━━━━━━━━━━━━━━━━━━\u001b[0m\u001b[37m\u001b[0m \u001b[1m1s\u001b[0m 6ms/step - accuracy: 0.9616 - loss: 0.0870 - val_accuracy: 0.8933 - val_loss: 0.4763\n",
            "Epoch 19/50\n",
            "\u001b[1m184/184\u001b[0m \u001b[32m━━━━━━━━━━━━━━━━━━━━\u001b[0m\u001b[37m\u001b[0m \u001b[1m1s\u001b[0m 7ms/step - accuracy: 0.9626 - loss: 0.0835 - val_accuracy: 0.8946 - val_loss: 0.4828\n",
            "Epoch 20/50\n",
            "\u001b[1m184/184\u001b[0m \u001b[32m━━━━━━━━━━━━━━━━━━━━\u001b[0m\u001b[37m\u001b[0m \u001b[1m2s\u001b[0m 7ms/step - accuracy: 0.9700 - loss: 0.0772 - val_accuracy: 0.9021 - val_loss: 0.4709\n",
            "Epoch 21/50\n",
            "\u001b[1m184/184\u001b[0m \u001b[32m━━━━━━━━━━━━━━━━━━━━\u001b[0m\u001b[37m\u001b[0m \u001b[1m1s\u001b[0m 6ms/step - accuracy: 0.9619 - loss: 0.0819 - val_accuracy: 0.9028 - val_loss: 0.4866\n",
            "Epoch 22/50\n",
            "\u001b[1m184/184\u001b[0m \u001b[32m━━━━━━━━━━━━━━━━━━━━\u001b[0m\u001b[37m\u001b[0m \u001b[1m1s\u001b[0m 6ms/step - accuracy: 0.9640 - loss: 0.0799 - val_accuracy: 0.8994 - val_loss: 0.4737\n",
            "Epoch 23/50\n",
            "\u001b[1m184/184\u001b[0m \u001b[32m━━━━━━━━━━━━━━━━━━━━\u001b[0m\u001b[37m\u001b[0m \u001b[1m1s\u001b[0m 7ms/step - accuracy: 0.9586 - loss: 0.0798 - val_accuracy: 0.9055 - val_loss: 0.4996\n",
            "Epoch 24/50\n",
            "\u001b[1m184/184\u001b[0m \u001b[32m━━━━━━━━━━━━━━━━━━━━\u001b[0m\u001b[37m\u001b[0m \u001b[1m1s\u001b[0m 6ms/step - accuracy: 0.9627 - loss: 0.0786 - val_accuracy: 0.9055 - val_loss: 0.4845\n",
            "Epoch 25/50\n",
            "\u001b[1m184/184\u001b[0m \u001b[32m━━━━━━━━━━━━━━━━━━━━\u001b[0m\u001b[37m\u001b[0m \u001b[1m1s\u001b[0m 7ms/step - accuracy: 0.9605 - loss: 0.0777 - val_accuracy: 0.8960 - val_loss: 0.4962\n",
            "Epoch 26/50\n",
            "\u001b[1m184/184\u001b[0m \u001b[32m━━━━━━━━━━━━━━━━━━━━\u001b[0m\u001b[37m\u001b[0m \u001b[1m1s\u001b[0m 6ms/step - accuracy: 0.9639 - loss: 0.0778 - val_accuracy: 0.8885 - val_loss: 0.5466\n",
            "Epoch 27/50\n",
            "\u001b[1m184/184\u001b[0m \u001b[32m━━━━━━━━━━━━━━━━━━━━\u001b[0m\u001b[37m\u001b[0m \u001b[1m1s\u001b[0m 7ms/step - accuracy: 0.9651 - loss: 0.0758 - val_accuracy: 0.9062 - val_loss: 0.4979\n",
            "Epoch 28/50\n",
            "\u001b[1m184/184\u001b[0m \u001b[32m━━━━━━━━━━━━━━━━━━━━\u001b[0m\u001b[37m\u001b[0m \u001b[1m2s\u001b[0m 10ms/step - accuracy: 0.9652 - loss: 0.0728 - val_accuracy: 0.8994 - val_loss: 0.5030\n",
            "Epoch 29/50\n",
            "\u001b[1m184/184\u001b[0m \u001b[32m━━━━━━━━━━━━━━━━━━━━\u001b[0m\u001b[37m\u001b[0m \u001b[1m1s\u001b[0m 6ms/step - accuracy: 0.9649 - loss: 0.0733 - val_accuracy: 0.9096 - val_loss: 0.4916\n",
            "Epoch 30/50\n",
            "\u001b[1m184/184\u001b[0m \u001b[32m━━━━━━━━━━━━━━━━━━━━\u001b[0m\u001b[37m\u001b[0m \u001b[1m1s\u001b[0m 6ms/step - accuracy: 0.9634 - loss: 0.0730 - val_accuracy: 0.9075 - val_loss: 0.5207\n",
            "Epoch 31/50\n",
            "\u001b[1m184/184\u001b[0m \u001b[32m━━━━━━━━━━━━━━━━━━━━\u001b[0m\u001b[37m\u001b[0m \u001b[1m1s\u001b[0m 7ms/step - accuracy: 0.9640 - loss: 0.0715 - val_accuracy: 0.9089 - val_loss: 0.5105\n",
            "Epoch 32/50\n",
            "\u001b[1m184/184\u001b[0m \u001b[32m━━━━━━━━━━━━━━━━━━━━\u001b[0m\u001b[37m\u001b[0m \u001b[1m1s\u001b[0m 6ms/step - accuracy: 0.9602 - loss: 0.0736 - val_accuracy: 0.9089 - val_loss: 0.5251\n",
            "Epoch 33/50\n",
            "\u001b[1m184/184\u001b[0m \u001b[32m━━━━━━━━━━━━━━━━━━━━\u001b[0m\u001b[37m\u001b[0m \u001b[1m1s\u001b[0m 7ms/step - accuracy: 0.9666 - loss: 0.0656 - val_accuracy: 0.9041 - val_loss: 0.5334\n",
            "Epoch 34/50\n",
            "\u001b[1m184/184\u001b[0m \u001b[32m━━━━━━━━━━━━━━━━━━━━\u001b[0m\u001b[37m\u001b[0m \u001b[1m3s\u001b[0m 7ms/step - accuracy: 0.9632 - loss: 0.0683 - val_accuracy: 0.9021 - val_loss: 0.5352\n",
            "Epoch 35/50\n",
            "\u001b[1m184/184\u001b[0m \u001b[32m━━━━━━━━━━━━━━━━━━━━\u001b[0m\u001b[37m\u001b[0m \u001b[1m3s\u001b[0m 9ms/step - accuracy: 0.9642 - loss: 0.0705 - val_accuracy: 0.9041 - val_loss: 0.5245\n",
            "Epoch 36/50\n",
            "\u001b[1m184/184\u001b[0m \u001b[32m━━━━━━━━━━━━━━━━━━━━\u001b[0m\u001b[37m\u001b[0m \u001b[1m1s\u001b[0m 7ms/step - accuracy: 0.9671 - loss: 0.0667 - val_accuracy: 0.9021 - val_loss: 0.5746\n",
            "Epoch 37/50\n",
            "\u001b[1m184/184\u001b[0m \u001b[32m━━━━━━━━━━━━━━━━━━━━\u001b[0m\u001b[37m\u001b[0m \u001b[1m1s\u001b[0m 7ms/step - accuracy: 0.9701 - loss: 0.0618 - val_accuracy: 0.9103 - val_loss: 0.5431\n",
            "Epoch 38/50\n",
            "\u001b[1m184/184\u001b[0m \u001b[32m━━━━━━━━━━━━━━━━━━━━\u001b[0m\u001b[37m\u001b[0m \u001b[1m2s\u001b[0m 6ms/step - accuracy: 0.9683 - loss: 0.0632 - val_accuracy: 0.9109 - val_loss: 0.5480\n",
            "Epoch 39/50\n",
            "\u001b[1m184/184\u001b[0m \u001b[32m━━━━━━━━━━━━━━━━━━━━\u001b[0m\u001b[37m\u001b[0m \u001b[1m1s\u001b[0m 7ms/step - accuracy: 0.9720 - loss: 0.0614 - val_accuracy: 0.9082 - val_loss: 0.5667\n",
            "Epoch 40/50\n",
            "\u001b[1m184/184\u001b[0m \u001b[32m━━━━━━━━━━━━━━━━━━━━\u001b[0m\u001b[37m\u001b[0m \u001b[1m1s\u001b[0m 6ms/step - accuracy: 0.9717 - loss: 0.0579 - val_accuracy: 0.9069 - val_loss: 0.5792\n",
            "Epoch 41/50\n",
            "\u001b[1m184/184\u001b[0m \u001b[32m━━━━━━━━━━━━━━━━━━━━\u001b[0m\u001b[37m\u001b[0m \u001b[1m1s\u001b[0m 7ms/step - accuracy: 0.9671 - loss: 0.0633 - val_accuracy: 0.9075 - val_loss: 0.5706\n",
            "Epoch 42/50\n",
            "\u001b[1m184/184\u001b[0m \u001b[32m━━━━━━━━━━━━━━━━━━━━\u001b[0m\u001b[37m\u001b[0m \u001b[1m3s\u001b[0m 9ms/step - accuracy: 0.9699 - loss: 0.0595 - val_accuracy: 0.8980 - val_loss: 0.5844\n",
            "Epoch 43/50\n",
            "\u001b[1m184/184\u001b[0m \u001b[32m━━━━━━━━━━━━━━━━━━━━\u001b[0m\u001b[37m\u001b[0m \u001b[1m1s\u001b[0m 7ms/step - accuracy: 0.9735 - loss: 0.0579 - val_accuracy: 0.9096 - val_loss: 0.5637\n",
            "Epoch 44/50\n",
            "\u001b[1m184/184\u001b[0m \u001b[32m━━━━━━━━━━━━━━━━━━━━\u001b[0m\u001b[37m\u001b[0m \u001b[1m1s\u001b[0m 6ms/step - accuracy: 0.9764 - loss: 0.0531 - val_accuracy: 0.9021 - val_loss: 0.6101\n",
            "Epoch 45/50\n",
            "\u001b[1m184/184\u001b[0m \u001b[32m━━━━━━━━━━━━━━━━━━━━\u001b[0m\u001b[37m\u001b[0m \u001b[1m1s\u001b[0m 7ms/step - accuracy: 0.9723 - loss: 0.0541 - val_accuracy: 0.9096 - val_loss: 0.5828\n",
            "Epoch 46/50\n",
            "\u001b[1m184/184\u001b[0m \u001b[32m━━━━━━━━━━━━━━━━━━━━\u001b[0m\u001b[37m\u001b[0m \u001b[1m2s\u001b[0m 6ms/step - accuracy: 0.9744 - loss: 0.0498 - val_accuracy: 0.9055 - val_loss: 0.5687\n",
            "Epoch 47/50\n",
            "\u001b[1m184/184\u001b[0m \u001b[32m━━━━━━━━━━━━━━━━━━━━\u001b[0m\u001b[37m\u001b[0m \u001b[1m1s\u001b[0m 6ms/step - accuracy: 0.9720 - loss: 0.0569 - val_accuracy: 0.8980 - val_loss: 0.6200\n",
            "Epoch 48/50\n",
            "\u001b[1m184/184\u001b[0m \u001b[32m━━━━━━━━━━━━━━━━━━━━\u001b[0m\u001b[37m\u001b[0m \u001b[1m1s\u001b[0m 7ms/step - accuracy: 0.9675 - loss: 0.0563 - val_accuracy: 0.9082 - val_loss: 0.5962\n",
            "Epoch 49/50\n",
            "\u001b[1m184/184\u001b[0m \u001b[32m━━━━━━━━━━━━━━━━━━━━\u001b[0m\u001b[37m\u001b[0m \u001b[1m1s\u001b[0m 7ms/step - accuracy: 0.9749 - loss: 0.0547 - val_accuracy: 0.9123 - val_loss: 0.5899\n",
            "Epoch 50/50\n",
            "\u001b[1m184/184\u001b[0m \u001b[32m━━━━━━━━━━━━━━━━━━━━\u001b[0m\u001b[37m\u001b[0m \u001b[1m2s\u001b[0m 9ms/step - accuracy: 0.9755 - loss: 0.0499 - val_accuracy: 0.9130 - val_loss: 0.5992\n"
          ]
        }
      ]
    },
    {
      "cell_type": "code",
      "source": [
        "from sklearn.metrics import accuracy_score, precision_score, recall_score, f1_score\n",
        "import seaborn as sns\n",
        "from sklearn.metrics import confusion_matrix\n",
        "\n",
        "def get_metrics(model, X_test, labels_test):\n",
        "    #send X_test in reshaped format\n",
        "    y_pred_probs = model.predict(X_test)\n",
        "    y_pred = np.argmax(y_pred_probs, axis=1)\n",
        "\n",
        "\n",
        "    metrics = {\n",
        "        'Accuracy': accuracy_score(labels_test, y_pred),\n",
        "        'Precision': precision_score(labels_test, y_pred, average='weighted'),\n",
        "        'Recall': recall_score(labels_test, y_pred, average='weighted'),\n",
        "        'F1 Score': f1_score(labels_test, y_pred, average='weighted')\n",
        "    }\n",
        "\n",
        "    print(\"\\nPerformance Metrics:\")\n",
        "    for name, value in metrics.items():\n",
        "        print(f\"{name+':':<10} {value:.4f}\")\n",
        "\n",
        "    cm = confusion_matrix(labels_test, y_pred)\n",
        "    plt.figure(figsize=(8, 6))\n",
        "\n",
        "\n",
        "    class_labels = ['Walking', 'Walking Upstairs', 'Walking Downstairs', 'Sitting', 'Standing', 'Laying']\n",
        "    sns.heatmap(cm, annot=True, fmt='d', cmap='Blues', xticklabels=class_labels, yticklabels=class_labels)\n",
        "\n",
        "    plt.xlabel('Predicted')\n",
        "    plt.ylabel('True')\n",
        "    plt.title('Confusion Matrix')\n",
        "    plt.show()\n",
        "\n",
        "    return y_pred, accuracy_score(labels_test, y_pred), f1_score(labels_test, y_pred, average='weighted')"
      ],
      "metadata": {
        "id": "56uNDBpIAfgA"
      },
      "execution_count": null,
      "outputs": []
    },
    {
      "cell_type": "code",
      "source": [
        "CNN_LSTM_predictions = get_metrics(model, X_test, labels_test)"
      ],
      "metadata": {
        "colab": {
          "base_uri": "https://localhost:8080/",
          "height": 812
        },
        "id": "8iYOFaS-BP1W",
        "outputId": "2c04c700-6128-4725-f9ce-df642090aa75"
      },
      "execution_count": null,
      "outputs": [
        {
          "output_type": "stream",
          "name": "stdout",
          "text": [
            "\u001b[1m93/93\u001b[0m \u001b[32m━━━━━━━━━━━━━━━━━━━━\u001b[0m\u001b[37m\u001b[0m \u001b[1m1s\u001b[0m 7ms/step\n",
            "\n",
            "Performance Metrics:\n",
            "Accuracy:  0.9036\n",
            "Precision: 0.9064\n",
            "Recall:    0.9036\n",
            "F1 Score:  0.9041\n"
          ]
        },
        {
          "output_type": "display_data",
          "data": {
            "text/plain": [
              "<Figure size 800x600 with 2 Axes>"
            ],
            "image/png": "[encoded data removed]"
          },
          "metadata": {}
        }
      ]
    },
    {
      "cell_type": "markdown",
      "source": [
        "#### Building another model CNN_LSTM_Dense\n",
        "\n",
        "Here we are going to add some more layer just before the softmax output layer. One layer will contain 64 neurons and another of 32 neurons."
      ],
      "metadata": {
        "id": "zEvUzxLbCXbQ"
      }
    },
    {
      "cell_type": "code",
      "source": [
        "def create_model_dense(input_shape, num_classes):\n",
        "    model = Sequential([\n",
        "        Input(shape=input_shape),\n",
        "\n",
        "        TimeDistributed(Conv1D(64, 3, activation='relu')),\n",
        "        TimeDistributed(MaxPooling1D(2)),\n",
        "        TimeDistributed(Flatten()),\n",
        "\n",
        "        LSTM(128, activation='tanh'),\n",
        "\n",
        "        Dense(64, activation='relu'),\n",
        "        Dense(32, activation='relu'),\n",
        "        Dense(num_classes, activation='softmax')\n",
        "    ])\n",
        "\n",
        "    return model\n",
        "\n",
        "model2 = create_model_dense(input_shape=(4, 32, 9), num_classes=6)"
      ],
      "metadata": {
        "id": "l0GKxVy-CWhZ"
      },
      "execution_count": null,
      "outputs": []
    },
    {
      "cell_type": "code",
      "source": [
        "model2.compile(\n",
        "    optimizer=Adam(learning_rate=0.0001),\n",
        "    loss=SparseCategoricalCrossentropy(),\n",
        "    metrics=['accuracy']\n",
        ")\n",
        "\n",
        "model.summary()"
      ],
      "metadata": {
        "colab": {
          "base_uri": "https://localhost:8080/",
          "height": 416
        },
        "id": "pPvQxPQfC1dC",
        "outputId": "47af4e59-0a00-47b5-a2c7-4b9c963f86c5"
      },
      "execution_count": null,
      "outputs": [
        {
          "output_type": "display_data",
          "data": {
            "text/plain": [
              "\u001b[1mModel: \"sequential_4\"\u001b[0m\n"
            ],
            "text/html": [
              "<pre style=\"white-space:pre;overflow-x:auto;line-height:normal;font-family:Menlo,'DejaVu Sans Mono',consolas,'Courier New',monospace\"><span style=\"font-weight: bold\">Model: \"sequential_4\"</span>\n",
              "</pre>\n"
            ]
          },
          "metadata": {}
        },
        {
          "output_type": "display_data",
          "data": {
            "text/plain": [
              "┏━━━━━━━━━━━━━━━━━━━━━━━━━━━━━━━━━━━━━━┳━━━━━━━━━━━━━━━━━━━━━━━━━━━━━┳━━━━━━━━━━━━━━━━━┓\n",
              "┃\u001b[1m \u001b[0m\u001b[1mLayer (type)                        \u001b[0m\u001b[1m \u001b[0m┃\u001b[1m \u001b[0m\u001b[1mOutput Shape               \u001b[0m\u001b[1m \u001b[0m┃\u001b[1m \u001b[0m\u001b[1m        Param #\u001b[0m\u001b[1m \u001b[0m┃\n",
              "┡━━━━━━━━━━━━━━━━━━━━━━━━━━━━━━━━━━━━━━╇━━━━━━━━━━━━━━━━━━━━━━━━━━━━━╇━━━━━━━━━━━━━━━━━┩\n",
              "│ time_distributed_12                  │ (\u001b[38;5;45mNone\u001b[0m, \u001b[38;5;34m4\u001b[0m, \u001b[38;5;34m30\u001b[0m, \u001b[38;5;34m64\u001b[0m)           │           \u001b[38;5;34m1,792\u001b[0m │\n",
              "│ (\u001b[38;5;33mTimeDistributed\u001b[0m)                    │                             │                 │\n",
              "├──────────────────────────────────────┼─────────────────────────────┼─────────────────┤\n",
              "│ time_distributed_13                  │ (\u001b[38;5;45mNone\u001b[0m, \u001b[38;5;34m4\u001b[0m, \u001b[38;5;34m15\u001b[0m, \u001b[38;5;34m64\u001b[0m)           │               \u001b[38;5;34m0\u001b[0m │\n",
              "│ (\u001b[38;5;33mTimeDistributed\u001b[0m)                    │                             │                 │\n",
              "├──────────────────────────────────────┼─────────────────────────────┼─────────────────┤\n",
              "│ time_distributed_14                  │ (\u001b[38;5;45mNone\u001b[0m, \u001b[38;5;34m4\u001b[0m, \u001b[38;5;34m960\u001b[0m)              │               \u001b[38;5;34m0\u001b[0m │\n",
              "│ (\u001b[38;5;33mTimeDistributed\u001b[0m)                    │                             │                 │\n",
              "├──────────────────────────────────────┼─────────────────────────────┼─────────────────┤\n",
              "│ lstm_4 (\u001b[38;5;33mLSTM\u001b[0m)                        │ (\u001b[38;5;45mNone\u001b[0m, \u001b[38;5;34m128\u001b[0m)                 │         \u001b[38;5;34m557,568\u001b[0m │\n",
              "├──────────────────────────────────────┼─────────────────────────────┼─────────────────┤\n",
              "│ dense_12 (\u001b[38;5;33mDense\u001b[0m)                     │ (\u001b[38;5;45mNone\u001b[0m, \u001b[38;5;34m6\u001b[0m)                   │             \u001b[38;5;34m774\u001b[0m │\n",
              "└──────────────────────────────────────┴─────────────────────────────┴─────────────────┘\n"
            ],
            "text/html": [
              "<pre style=\"white-space:pre;overflow-x:auto;line-height:normal;font-family:Menlo,'DejaVu Sans Mono',consolas,'Courier New',monospace\">┏━━━━━━━━━━━━━━━━━━━━━━━━━━━━━━━━━━━━━━┳━━━━━━━━━━━━━━━━━━━━━━━━━━━━━┳━━━━━━━━━━━━━━━━━┓\n",
              "┃<span style=\"font-weight: bold\"> Layer (type)                         </span>┃<span style=\"font-weight: bold\"> Output Shape                </span>┃<span style=\"font-weight: bold\">         Param # </span>┃\n",
              "┡━━━━━━━━━━━━━━━━━━━━━━━━━━━━━━━━━━━━━━╇━━━━━━━━━━━━━━━━━━━━━━━━━━━━━╇━━━━━━━━━━━━━━━━━┩\n",
              "│ time_distributed_12                  │ (<span style=\"color: #00d7ff; text-decoration-color: #00d7ff\">None</span>, <span style=\"color: #00af00; text-decoration-color: #00af00\">4</span>, <span style=\"color: #00af00; text-decoration-color: #00af00\">30</span>, <span style=\"color: #00af00; text-decoration-color: #00af00\">64</span>)           │           <span style=\"color: #00af00; text-decoration-color: #00af00\">1,792</span> │\n",
              "│ (<span style=\"color: #0087ff; text-decoration-color: #0087ff\">TimeDistributed</span>)                    │                             │                 │\n",
              "├──────────────────────────────────────┼─────────────────────────────┼─────────────────┤\n",
              "│ time_distributed_13                  │ (<span style=\"color: #00d7ff; text-decoration-color: #00d7ff\">None</span>, <span style=\"color: #00af00; text-decoration-color: #00af00\">4</span>, <span style=\"color: #00af00; text-decoration-color: #00af00\">15</span>, <span style=\"color: #00af00; text-decoration-color: #00af00\">64</span>)           │               <span style=\"color: #00af00; text-decoration-color: #00af00\">0</span> │\n",
              "│ (<span style=\"color: #0087ff; text-decoration-color: #0087ff\">TimeDistributed</span>)                    │                             │                 │\n",
              "├──────────────────────────────────────┼─────────────────────────────┼─────────────────┤\n",
              "│ time_distributed_14                  │ (<span style=\"color: #00d7ff; text-decoration-color: #00d7ff\">None</span>, <span style=\"color: #00af00; text-decoration-color: #00af00\">4</span>, <span style=\"color: #00af00; text-decoration-color: #00af00\">960</span>)              │               <span style=\"color: #00af00; text-decoration-color: #00af00\">0</span> │\n",
              "│ (<span style=\"color: #0087ff; text-decoration-color: #0087ff\">TimeDistributed</span>)                    │                             │                 │\n",
              "├──────────────────────────────────────┼─────────────────────────────┼─────────────────┤\n",
              "│ lstm_4 (<span style=\"color: #0087ff; text-decoration-color: #0087ff\">LSTM</span>)                        │ (<span style=\"color: #00d7ff; text-decoration-color: #00d7ff\">None</span>, <span style=\"color: #00af00; text-decoration-color: #00af00\">128</span>)                 │         <span style=\"color: #00af00; text-decoration-color: #00af00\">557,568</span> │\n",
              "├──────────────────────────────────────┼─────────────────────────────┼─────────────────┤\n",
              "│ dense_12 (<span style=\"color: #0087ff; text-decoration-color: #0087ff\">Dense</span>)                     │ (<span style=\"color: #00d7ff; text-decoration-color: #00d7ff\">None</span>, <span style=\"color: #00af00; text-decoration-color: #00af00\">6</span>)                   │             <span style=\"color: #00af00; text-decoration-color: #00af00\">774</span> │\n",
              "└──────────────────────────────────────┴─────────────────────────────┴─────────────────┘\n",
              "</pre>\n"
            ]
          },
          "metadata": {}
        },
        {
          "output_type": "display_data",
          "data": {
            "text/plain": [
              "\u001b[1m Total params: \u001b[0m\u001b[38;5;34m1,680,404\u001b[0m (6.41 MB)\n"
            ],
            "text/html": [
              "<pre style=\"white-space:pre;overflow-x:auto;line-height:normal;font-family:Menlo,'DejaVu Sans Mono',consolas,'Courier New',monospace\"><span style=\"font-weight: bold\"> Total params: </span><span style=\"color: #00af00; text-decoration-color: #00af00\">1,680,404</span> (6.41 MB)\n",
              "</pre>\n"
            ]
          },
          "metadata": {}
        },
        {
          "output_type": "display_data",
          "data": {
            "text/plain": [
              "\u001b[1m Trainable params: \u001b[0m\u001b[38;5;34m560,134\u001b[0m (2.14 MB)\n"
            ],
            "text/html": [
              "<pre style=\"white-space:pre;overflow-x:auto;line-height:normal;font-family:Menlo,'DejaVu Sans Mono',consolas,'Courier New',monospace\"><span style=\"font-weight: bold\"> Trainable params: </span><span style=\"color: #00af00; text-decoration-color: #00af00\">560,134</span> (2.14 MB)\n",
              "</pre>\n"
            ]
          },
          "metadata": {}
        },
        {
          "output_type": "display_data",
          "data": {
            "text/plain": [
              "\u001b[1m Non-trainable params: \u001b[0m\u001b[38;5;34m0\u001b[0m (0.00 B)\n"
            ],
            "text/html": [
              "<pre style=\"white-space:pre;overflow-x:auto;line-height:normal;font-family:Menlo,'DejaVu Sans Mono',consolas,'Courier New',monospace\"><span style=\"font-weight: bold\"> Non-trainable params: </span><span style=\"color: #00af00; text-decoration-color: #00af00\">0</span> (0.00 B)\n",
              "</pre>\n"
            ]
          },
          "metadata": {}
        },
        {
          "output_type": "display_data",
          "data": {
            "text/plain": [
              "\u001b[1m Optimizer params: \u001b[0m\u001b[38;5;34m1,120,270\u001b[0m (4.27 MB)\n"
            ],
            "text/html": [
              "<pre style=\"white-space:pre;overflow-x:auto;line-height:normal;font-family:Menlo,'DejaVu Sans Mono',consolas,'Courier New',monospace\"><span style=\"font-weight: bold\"> Optimizer params: </span><span style=\"color: #00af00; text-decoration-color: #00af00\">1,120,270</span> (4.27 MB)\n",
              "</pre>\n"
            ]
          },
          "metadata": {}
        }
      ]
    },
    {
      "cell_type": "code",
      "source": [
        "model2.fit(\n",
        "    X_train,\n",
        "    labels,\n",
        "    batch_size=64,\n",
        "    epochs=50,\n",
        "    validation_split=0.2\n",
        ")"
      ],
      "metadata": {
        "colab": {
          "base_uri": "https://localhost:8080/"
        },
        "id": "AMDoUsGCDKN3",
        "outputId": "989c63f6-912c-4828-f02d-ebce57377801"
      },
      "execution_count": null,
      "outputs": [
        {
          "output_type": "stream",
          "name": "stdout",
          "text": [
            "Epoch 1/50\n",
            "\u001b[1m92/92\u001b[0m \u001b[32m━━━━━━━━━━━━━━━━━━━━\u001b[0m\u001b[37m\u001b[0m \u001b[1m4s\u001b[0m 14ms/step - accuracy: 0.3585 - loss: 1.6308 - val_accuracy: 0.6642 - val_loss: 1.0353\n",
            "Epoch 2/50\n",
            "\u001b[1m92/92\u001b[0m \u001b[32m━━━━━━━━━━━━━━━━━━━━\u001b[0m\u001b[37m\u001b[0m \u001b[1m1s\u001b[0m 8ms/step - accuracy: 0.7555 - loss: 0.8295 - val_accuracy: 0.7845 - val_loss: 0.6566\n",
            "Epoch 3/50\n",
            "\u001b[1m92/92\u001b[0m \u001b[32m━━━━━━━━━━━━━━━━━━━━\u001b[0m\u001b[37m\u001b[0m \u001b[1m1s\u001b[0m 8ms/step - accuracy: 0.8325 - loss: 0.4807 - val_accuracy: 0.8171 - val_loss: 0.5736\n",
            "Epoch 4/50\n",
            "\u001b[1m92/92\u001b[0m \u001b[32m━━━━━━━━━━━━━━━━━━━━\u001b[0m\u001b[37m\u001b[0m \u001b[1m1s\u001b[0m 8ms/step - accuracy: 0.8640 - loss: 0.3790 - val_accuracy: 0.8273 - val_loss: 0.5556\n",
            "Epoch 5/50\n",
            "\u001b[1m92/92\u001b[0m \u001b[32m━━━━━━━━━━━━━━━━━━━━\u001b[0m\u001b[37m\u001b[0m \u001b[1m1s\u001b[0m 7ms/step - accuracy: 0.8897 - loss: 0.3144 - val_accuracy: 0.8640 - val_loss: 0.4977\n",
            "Epoch 6/50\n",
            "\u001b[1m92/92\u001b[0m \u001b[32m━━━━━━━━━━━━━━━━━━━━\u001b[0m\u001b[37m\u001b[0m \u001b[1m1s\u001b[0m 8ms/step - accuracy: 0.9118 - loss: 0.2669 - val_accuracy: 0.8681 - val_loss: 0.4946\n",
            "Epoch 7/50\n",
            "\u001b[1m92/92\u001b[0m \u001b[32m━━━━━━━━━━━━━━━━━━━━\u001b[0m\u001b[37m\u001b[0m \u001b[1m1s\u001b[0m 8ms/step - accuracy: 0.9300 - loss: 0.2105 - val_accuracy: 0.8790 - val_loss: 0.4782\n",
            "Epoch 8/50\n",
            "\u001b[1m92/92\u001b[0m \u001b[32m━━━━━━━━━━━━━━━━━━━━\u001b[0m\u001b[37m\u001b[0m \u001b[1m1s\u001b[0m 10ms/step - accuracy: 0.9341 - loss: 0.1968 - val_accuracy: 0.8912 - val_loss: 0.4754\n",
            "Epoch 9/50\n",
            "\u001b[1m92/92\u001b[0m \u001b[32m━━━━━━━━━━━━━━━━━━━━\u001b[0m\u001b[37m\u001b[0m \u001b[1m1s\u001b[0m 9ms/step - accuracy: 0.9424 - loss: 0.1698 - val_accuracy: 0.8899 - val_loss: 0.4716\n",
            "Epoch 10/50\n",
            "\u001b[1m92/92\u001b[0m \u001b[32m━━━━━━━━━━━━━━━━━━━━\u001b[0m\u001b[37m\u001b[0m \u001b[1m1s\u001b[0m 8ms/step - accuracy: 0.9482 - loss: 0.1504 - val_accuracy: 0.9014 - val_loss: 0.4626\n",
            "Epoch 11/50\n",
            "\u001b[1m92/92\u001b[0m \u001b[32m━━━━━━━━━━━━━━━━━━━━\u001b[0m\u001b[37m\u001b[0m \u001b[1m1s\u001b[0m 8ms/step - accuracy: 0.9521 - loss: 0.1376 - val_accuracy: 0.8872 - val_loss: 0.4894\n",
            "Epoch 12/50\n",
            "\u001b[1m92/92\u001b[0m \u001b[32m━━━━━━━━━━━━━━━━━━━━\u001b[0m\u001b[37m\u001b[0m \u001b[1m1s\u001b[0m 8ms/step - accuracy: 0.9522 - loss: 0.1279 - val_accuracy: 0.8994 - val_loss: 0.4817\n",
            "Epoch 13/50\n",
            "\u001b[1m92/92\u001b[0m \u001b[32m━━━━━━━━━━━━━━━━━━━━\u001b[0m\u001b[37m\u001b[0m \u001b[1m1s\u001b[0m 8ms/step - accuracy: 0.9557 - loss: 0.1212 - val_accuracy: 0.9041 - val_loss: 0.4890\n",
            "Epoch 14/50\n",
            "\u001b[1m92/92\u001b[0m \u001b[32m━━━━━━━━━━━━━━━━━━━━\u001b[0m\u001b[37m\u001b[0m \u001b[1m1s\u001b[0m 8ms/step - accuracy: 0.9537 - loss: 0.1145 - val_accuracy: 0.9082 - val_loss: 0.4913\n",
            "Epoch 15/50\n",
            "\u001b[1m92/92\u001b[0m \u001b[32m━━━━━━━━━━━━━━━━━━━━\u001b[0m\u001b[37m\u001b[0m \u001b[1m1s\u001b[0m 8ms/step - accuracy: 0.9595 - loss: 0.1094 - val_accuracy: 0.9035 - val_loss: 0.5114\n",
            "Epoch 16/50\n",
            "\u001b[1m92/92\u001b[0m \u001b[32m━━━━━━━━━━━━━━━━━━━━\u001b[0m\u001b[37m\u001b[0m \u001b[1m1s\u001b[0m 8ms/step - accuracy: 0.9618 - loss: 0.1064 - val_accuracy: 0.9041 - val_loss: 0.5127\n",
            "Epoch 17/50\n",
            "\u001b[1m92/92\u001b[0m \u001b[32m━━━━━━━━━━━━━━━━━━━━\u001b[0m\u001b[37m\u001b[0m \u001b[1m1s\u001b[0m 8ms/step - accuracy: 0.9641 - loss: 0.0931 - val_accuracy: 0.9096 - val_loss: 0.5081\n",
            "Epoch 18/50\n",
            "\u001b[1m92/92\u001b[0m \u001b[32m━━━━━━━━━━━━━━━━━━━━\u001b[0m\u001b[37m\u001b[0m \u001b[1m1s\u001b[0m 8ms/step - accuracy: 0.9620 - loss: 0.0927 - val_accuracy: 0.9035 - val_loss: 0.5540\n",
            "Epoch 19/50\n",
            "\u001b[1m92/92\u001b[0m \u001b[32m━━━━━━━━━━━━━━━━━━━━\u001b[0m\u001b[37m\u001b[0m \u001b[1m2s\u001b[0m 11ms/step - accuracy: 0.9620 - loss: 0.0963 - val_accuracy: 0.9014 - val_loss: 0.5546\n",
            "Epoch 20/50\n",
            "\u001b[1m92/92\u001b[0m \u001b[32m━━━━━━━━━━━━━━━━━━━━\u001b[0m\u001b[37m\u001b[0m \u001b[1m1s\u001b[0m 10ms/step - accuracy: 0.9658 - loss: 0.0871 - val_accuracy: 0.9069 - val_loss: 0.5413\n",
            "Epoch 21/50\n",
            "\u001b[1m92/92\u001b[0m \u001b[32m━━━━━━━━━━━━━━━━━━━━\u001b[0m\u001b[37m\u001b[0m \u001b[1m1s\u001b[0m 8ms/step - accuracy: 0.9661 - loss: 0.0856 - val_accuracy: 0.9096 - val_loss: 0.5313\n",
            "Epoch 22/50\n",
            "\u001b[1m92/92\u001b[0m \u001b[32m━━━━━━━━━━━━━━━━━━━━\u001b[0m\u001b[37m\u001b[0m \u001b[1m1s\u001b[0m 8ms/step - accuracy: 0.9643 - loss: 0.0855 - val_accuracy: 0.9103 - val_loss: 0.5569\n",
            "Epoch 23/50\n",
            "\u001b[1m92/92\u001b[0m \u001b[32m━━━━━━━━━━━━━━━━━━━━\u001b[0m\u001b[37m\u001b[0m \u001b[1m1s\u001b[0m 8ms/step - accuracy: 0.9655 - loss: 0.0786 - val_accuracy: 0.9082 - val_loss: 0.5815\n",
            "Epoch 24/50\n",
            "\u001b[1m92/92\u001b[0m \u001b[32m━━━━━━━━━━━━━━━━━━━━\u001b[0m\u001b[37m\u001b[0m \u001b[1m1s\u001b[0m 8ms/step - accuracy: 0.9586 - loss: 0.0864 - val_accuracy: 0.9096 - val_loss: 0.5812\n",
            "Epoch 25/50\n",
            "\u001b[1m92/92\u001b[0m \u001b[32m━━━━━━━━━━━━━━━━━━━━\u001b[0m\u001b[37m\u001b[0m \u001b[1m1s\u001b[0m 8ms/step - accuracy: 0.9670 - loss: 0.0781 - val_accuracy: 0.9089 - val_loss: 0.5829\n",
            "Epoch 26/50\n",
            "\u001b[1m92/92\u001b[0m \u001b[32m━━━━━━━━━━━━━━━━━━━━\u001b[0m\u001b[37m\u001b[0m \u001b[1m1s\u001b[0m 8ms/step - accuracy: 0.9648 - loss: 0.0761 - val_accuracy: 0.9062 - val_loss: 0.5926\n",
            "Epoch 27/50\n",
            "\u001b[1m92/92\u001b[0m \u001b[32m━━━━━━━━━━━━━━━━━━━━\u001b[0m\u001b[37m\u001b[0m \u001b[1m1s\u001b[0m 8ms/step - accuracy: 0.9679 - loss: 0.0755 - val_accuracy: 0.9082 - val_loss: 0.6157\n",
            "Epoch 28/50\n",
            "\u001b[1m92/92\u001b[0m \u001b[32m━━━━━━━━━━━━━━━━━━━━\u001b[0m\u001b[37m\u001b[0m \u001b[1m1s\u001b[0m 8ms/step - accuracy: 0.9628 - loss: 0.0805 - val_accuracy: 0.9109 - val_loss: 0.6049\n",
            "Epoch 29/50\n",
            "\u001b[1m92/92\u001b[0m \u001b[32m━━━━━━━━━━━━━━━━━━━━\u001b[0m\u001b[37m\u001b[0m \u001b[1m1s\u001b[0m 8ms/step - accuracy: 0.9689 - loss: 0.0715 - val_accuracy: 0.9103 - val_loss: 0.6001\n",
            "Epoch 30/50\n",
            "\u001b[1m92/92\u001b[0m \u001b[32m━━━━━━━━━━━━━━━━━━━━\u001b[0m\u001b[37m\u001b[0m \u001b[1m1s\u001b[0m 8ms/step - accuracy: 0.9670 - loss: 0.0729 - val_accuracy: 0.9103 - val_loss: 0.6272\n",
            "Epoch 31/50\n",
            "\u001b[1m92/92\u001b[0m \u001b[32m━━━━━━━━━━━━━━━━━━━━\u001b[0m\u001b[37m\u001b[0m \u001b[1m1s\u001b[0m 8ms/step - accuracy: 0.9674 - loss: 0.0719 - val_accuracy: 0.9109 - val_loss: 0.6254\n",
            "Epoch 32/50\n",
            "\u001b[1m92/92\u001b[0m \u001b[32m━━━━━━━━━━━━━━━━━━━━\u001b[0m\u001b[37m\u001b[0m \u001b[1m2s\u001b[0m 11ms/step - accuracy: 0.9660 - loss: 0.0734 - val_accuracy: 0.9103 - val_loss: 0.6442\n",
            "Epoch 33/50\n",
            "\u001b[1m92/92\u001b[0m \u001b[32m━━━━━━━━━━━━━━━━━━━━\u001b[0m\u001b[37m\u001b[0m \u001b[1m1s\u001b[0m 9ms/step - accuracy: 0.9654 - loss: 0.0727 - val_accuracy: 0.9089 - val_loss: 0.6408\n",
            "Epoch 34/50\n",
            "\u001b[1m92/92\u001b[0m \u001b[32m━━━━━━━━━━━━━━━━━━━━\u001b[0m\u001b[37m\u001b[0m \u001b[1m1s\u001b[0m 8ms/step - accuracy: 0.9627 - loss: 0.0714 - val_accuracy: 0.9130 - val_loss: 0.6451\n",
            "Epoch 35/50\n",
            "\u001b[1m92/92\u001b[0m \u001b[32m━━━━━━━━━━━━━━━━━━━━\u001b[0m\u001b[37m\u001b[0m \u001b[1m1s\u001b[0m 8ms/step - accuracy: 0.9680 - loss: 0.0646 - val_accuracy: 0.9096 - val_loss: 0.6621\n",
            "Epoch 36/50\n",
            "\u001b[1m92/92\u001b[0m \u001b[32m━━━━━━━━━━━━━━━━━━━━\u001b[0m\u001b[37m\u001b[0m \u001b[1m1s\u001b[0m 8ms/step - accuracy: 0.9673 - loss: 0.0682 - val_accuracy: 0.9096 - val_loss: 0.6746\n",
            "Epoch 37/50\n",
            "\u001b[1m92/92\u001b[0m \u001b[32m━━━━━━━━━━━━━━━━━━━━\u001b[0m\u001b[37m\u001b[0m \u001b[1m1s\u001b[0m 8ms/step - accuracy: 0.9663 - loss: 0.0689 - val_accuracy: 0.9089 - val_loss: 0.6830\n",
            "Epoch 38/50\n",
            "\u001b[1m92/92\u001b[0m \u001b[32m━━━━━━━━━━━━━━━━━━━━\u001b[0m\u001b[37m\u001b[0m \u001b[1m1s\u001b[0m 8ms/step - accuracy: 0.9727 - loss: 0.0589 - val_accuracy: 0.9082 - val_loss: 0.6767\n",
            "Epoch 39/50\n",
            "\u001b[1m92/92\u001b[0m \u001b[32m━━━━━━━━━━━━━━━━━━━━\u001b[0m\u001b[37m\u001b[0m \u001b[1m1s\u001b[0m 8ms/step - accuracy: 0.9684 - loss: 0.0648 - val_accuracy: 0.9075 - val_loss: 0.6930\n",
            "Epoch 40/50\n",
            "\u001b[1m92/92\u001b[0m \u001b[32m━━━━━━━━━━━━━━━━━━━━\u001b[0m\u001b[37m\u001b[0m \u001b[1m1s\u001b[0m 8ms/step - accuracy: 0.9649 - loss: 0.0666 - val_accuracy: 0.9082 - val_loss: 0.6968\n",
            "Epoch 41/50\n",
            "\u001b[1m92/92\u001b[0m \u001b[32m━━━━━━━━━━━━━━━━━━━━\u001b[0m\u001b[37m\u001b[0m \u001b[1m1s\u001b[0m 8ms/step - accuracy: 0.9733 - loss: 0.0558 - val_accuracy: 0.9075 - val_loss: 0.7247\n",
            "Epoch 42/50\n",
            "\u001b[1m92/92\u001b[0m \u001b[32m━━━━━━━━━━━━━━━━━━━━\u001b[0m\u001b[37m\u001b[0m \u001b[1m1s\u001b[0m 8ms/step - accuracy: 0.9720 - loss: 0.0593 - val_accuracy: 0.9082 - val_loss: 0.7238\n",
            "Epoch 43/50\n",
            "\u001b[1m92/92\u001b[0m \u001b[32m━━━━━━━━━━━━━━━━━━━━\u001b[0m\u001b[37m\u001b[0m \u001b[1m1s\u001b[0m 8ms/step - accuracy: 0.9728 - loss: 0.0584 - val_accuracy: 0.9096 - val_loss: 0.6993\n",
            "Epoch 44/50\n",
            "\u001b[1m92/92\u001b[0m \u001b[32m━━━━━━━━━━━━━━━━━━━━\u001b[0m\u001b[37m\u001b[0m \u001b[1m1s\u001b[0m 8ms/step - accuracy: 0.9699 - loss: 0.0553 - val_accuracy: 0.8906 - val_loss: 0.7169\n",
            "Epoch 45/50\n",
            "\u001b[1m92/92\u001b[0m \u001b[32m━━━━━━━━━━━━━━━━━━━━\u001b[0m\u001b[37m\u001b[0m \u001b[1m1s\u001b[0m 10ms/step - accuracy: 0.9736 - loss: 0.0572 - val_accuracy: 0.8939 - val_loss: 0.7233\n",
            "Epoch 46/50\n",
            "\u001b[1m92/92\u001b[0m \u001b[32m━━━━━━━━━━━━━━━━━━━━\u001b[0m\u001b[37m\u001b[0m \u001b[1m1s\u001b[0m 11ms/step - accuracy: 0.9714 - loss: 0.0582 - val_accuracy: 0.8960 - val_loss: 0.7367\n",
            "Epoch 47/50\n",
            "\u001b[1m92/92\u001b[0m \u001b[32m━━━━━━━━━━━━━━━━━━━━\u001b[0m\u001b[37m\u001b[0m \u001b[1m1s\u001b[0m 9ms/step - accuracy: 0.9687 - loss: 0.0575 - val_accuracy: 0.9014 - val_loss: 0.7338\n",
            "Epoch 48/50\n",
            "\u001b[1m92/92\u001b[0m \u001b[32m━━━━━━━━━━━━━━━━━━━━\u001b[0m\u001b[37m\u001b[0m \u001b[1m1s\u001b[0m 8ms/step - accuracy: 0.9701 - loss: 0.0564 - val_accuracy: 0.9143 - val_loss: 0.7261\n",
            "Epoch 49/50\n",
            "\u001b[1m92/92\u001b[0m \u001b[32m━━━━━━━━━━━━━━━━━━━━\u001b[0m\u001b[37m\u001b[0m \u001b[1m1s\u001b[0m 8ms/step - accuracy: 0.9711 - loss: 0.0533 - val_accuracy: 0.9007 - val_loss: 0.7328\n",
            "Epoch 50/50\n",
            "\u001b[1m92/92\u001b[0m \u001b[32m━━━━━━━━━━━━━━━━━━━━\u001b[0m\u001b[37m\u001b[0m \u001b[1m1s\u001b[0m 8ms/step - accuracy: 0.9740 - loss: 0.0520 - val_accuracy: 0.9055 - val_loss: 0.7572\n"
          ]
        },
        {
          "output_type": "execute_result",
          "data": {
            "text/plain": [
              "<keras.src.callbacks.history.History at 0x7d72641e7ad0>"
            ]
          },
          "metadata": {},
          "execution_count": 81
        }
      ]
    },
    {
      "cell_type": "code",
      "source": [
        "CNN_LSTM_dense_predictions = get_metrics(model2, X_test, labels_test)"
      ],
      "metadata": {
        "colab": {
          "base_uri": "https://localhost:8080/",
          "height": 812
        },
        "id": "OkdVy0zSDQPL",
        "outputId": "746d8b9f-0137-4463-8a40-b169de27439f"
      },
      "execution_count": null,
      "outputs": [
        {
          "output_type": "stream",
          "name": "stdout",
          "text": [
            "\u001b[1m93/93\u001b[0m \u001b[32m━━━━━━━━━━━━━━━━━━━━\u001b[0m\u001b[37m\u001b[0m \u001b[1m1s\u001b[0m 5ms/step\n",
            "\n",
            "Performance Metrics:\n",
            "Accuracy:  0.8826\n",
            "Precision: 0.8876\n",
            "Recall:    0.8826\n",
            "F1 Score:  0.8835\n"
          ]
        },
        {
          "output_type": "display_data",
          "data": {
            "text/plain": [
              "<Figure size 800x600 with 2 Axes>"
            ],
            "image/png": "[encoded data removed]"
          },
          "metadata": {}
        }
      ]
    },
    {
      "cell_type": "markdown",
      "source": [
        "## CNN_LSTM Model using the custom features.\n",
        "\n",
        "Above we have created 2 time varying features i.e. total acceleration and total gyro. Now I will add some more features like acceleration sma and gyro sma which is signal magnitude area i.e. sum of absolute values of acceleration and gyro."
      ],
      "metadata": {
        "id": "ar62mccPUIKM"
      }
    },
    {
      "cell_type": "code",
      "source": [
        "acceleration_sma = np.abs(acc_x_train) + np.abs(acc_y_train) + np.abs(acc_z_train)\n",
        "gyro_sma = np.abs(gyro_x_train) + np.abs(gyro_y_train) + np.abs(gyro_z_train)\n",
        "\n",
        "acceleration_sma.shape, gyro_sma.shape"
      ],
      "metadata": {
        "colab": {
          "base_uri": "https://localhost:8080/"
        },
        "id": "be17QXNBVH9S",
        "outputId": "1c274318-e1ac-4b0f-a852-6a319e6dc799"
      },
      "execution_count": null,
      "outputs": [
        {
          "output_type": "execute_result",
          "data": {
            "text/plain": [
              "((7352, 128), (7352, 128))"
            ]
          },
          "metadata": {},
          "execution_count": 83
        }
      ]
    },
    {
      "cell_type": "code",
      "source": [
        "acceleration_sma_test = np.abs(acc_x_test) + np.abs(acc_y_test) + np.abs(acc_z_test)\n",
        "gyro_sma_test = np.abs(gyro_x_test) + np.abs(gyro_y_test) + np.abs(gyro_z_test)\n",
        "\n",
        "acceleration_sma_test.shape, gyro_sma_test.shape"
      ],
      "metadata": {
        "colab": {
          "base_uri": "https://localhost:8080/"
        },
        "id": "gQuLAOnoV2K1",
        "outputId": "da0b94ca-bf01-4bb5-d3a8-6488a9654a61"
      },
      "execution_count": null,
      "outputs": [
        {
          "output_type": "execute_result",
          "data": {
            "text/plain": [
              "((2947, 128), (2947, 128))"
            ]
          },
          "metadata": {},
          "execution_count": 84
        }
      ]
    },
    {
      "cell_type": "code",
      "source": [
        "X_train = np.stack((acc_x_train, acc_y_train, acc_z_train, gyro_x_train, gyro_y_train, gyro_z_train, totalacc_x_train, totalacc_y_train, totalacc_z_train, total_acceleration, total_gyro, acceleration_sma, gyro_sma), axis=2)\n",
        "X_test = np.stack((acc_x_test, acc_y_test, acc_z_test, gyro_x_test, gyro_y_test, gyro_z_test, totalacc_x_test, totalacc_y_test, totalacc_z_test, total_acceleration_test, total_gyro_test, acceleration_sma_test, gyro_sma_test), axis=2)\n",
        "\n",
        "X_train.shape, X_test.shape\n"
      ],
      "metadata": {
        "colab": {
          "base_uri": "https://localhost:8080/"
        },
        "id": "_GaDLCC1Voyc",
        "outputId": "e9635df1-123f-4684-d9ed-ef57b93bd2f7"
      },
      "execution_count": null,
      "outputs": [
        {
          "output_type": "execute_result",
          "data": {
            "text/plain": [
              "((7352, 128, 13), (2947, 128, 13))"
            ]
          },
          "metadata": {},
          "execution_count": 85
        }
      ]
    },
    {
      "cell_type": "code",
      "source": [
        "X_train = X_train.reshape(-1, 4, 32, 13)\n",
        "X_test = X_test.reshape(-1, 4, 32, 13)"
      ],
      "metadata": {
        "id": "mpwauTg4XRj3"
      },
      "execution_count": null,
      "outputs": []
    },
    {
      "cell_type": "code",
      "source": [
        "model_custom =create_model_dense(input_shape=(4, 32, 13), num_classes=6)\n",
        "model_custom.compile(\n",
        "    optimizer=Adam(learning_rate=0.0001),\n",
        "    loss=SparseCategoricalCrossentropy(),\n",
        "    metrics=['accuracy']\n",
        ")\n",
        "\n",
        "model_custom.summary()"
      ],
      "metadata": {
        "colab": {
          "base_uri": "https://localhost:8080/",
          "height": 473
        },
        "id": "M3Lgs0mwWwFd",
        "outputId": "6beb6718-cb53-4acd-a1c0-940db98a7b79"
      },
      "execution_count": null,
      "outputs": [
        {
          "output_type": "display_data",
          "data": {
            "text/plain": [
              "\u001b[1mModel: \"sequential_6\"\u001b[0m\n"
            ],
            "text/html": [
              "<pre style=\"white-space:pre;overflow-x:auto;line-height:normal;font-family:Menlo,'DejaVu Sans Mono',consolas,'Courier New',monospace\"><span style=\"font-weight: bold\">Model: \"sequential_6\"</span>\n",
              "</pre>\n"
            ]
          },
          "metadata": {}
        },
        {
          "output_type": "display_data",
          "data": {
            "text/plain": [
              "┏━━━━━━━━━━━━━━━━━━━━━━━━━━━━━━━━━━━━━━┳━━━━━━━━━━━━━━━━━━━━━━━━━━━━━┳━━━━━━━━━━━━━━━━━┓\n",
              "┃\u001b[1m \u001b[0m\u001b[1mLayer (type)                        \u001b[0m\u001b[1m \u001b[0m┃\u001b[1m \u001b[0m\u001b[1mOutput Shape               \u001b[0m\u001b[1m \u001b[0m┃\u001b[1m \u001b[0m\u001b[1m        Param #\u001b[0m\u001b[1m \u001b[0m┃\n",
              "┡━━━━━━━━━━━━━━━━━━━━━━━━━━━━━━━━━━━━━━╇━━━━━━━━━━━━━━━━━━━━━━━━━━━━━╇━━━━━━━━━━━━━━━━━┩\n",
              "│ time_distributed_18                  │ (\u001b[38;5;45mNone\u001b[0m, \u001b[38;5;34m4\u001b[0m, \u001b[38;5;34m30\u001b[0m, \u001b[38;5;34m64\u001b[0m)           │           \u001b[38;5;34m2,560\u001b[0m │\n",
              "│ (\u001b[38;5;33mTimeDistributed\u001b[0m)                    │                             │                 │\n",
              "├──────────────────────────────────────┼─────────────────────────────┼─────────────────┤\n",
              "│ time_distributed_19                  │ (\u001b[38;5;45mNone\u001b[0m, \u001b[38;5;34m4\u001b[0m, \u001b[38;5;34m15\u001b[0m, \u001b[38;5;34m64\u001b[0m)           │               \u001b[38;5;34m0\u001b[0m │\n",
              "│ (\u001b[38;5;33mTimeDistributed\u001b[0m)                    │                             │                 │\n",
              "├──────────────────────────────────────┼─────────────────────────────┼─────────────────┤\n",
              "│ time_distributed_20                  │ (\u001b[38;5;45mNone\u001b[0m, \u001b[38;5;34m4\u001b[0m, \u001b[38;5;34m960\u001b[0m)              │               \u001b[38;5;34m0\u001b[0m │\n",
              "│ (\u001b[38;5;33mTimeDistributed\u001b[0m)                    │                             │                 │\n",
              "├──────────────────────────────────────┼─────────────────────────────┼─────────────────┤\n",
              "│ lstm_6 (\u001b[38;5;33mLSTM\u001b[0m)                        │ (\u001b[38;5;45mNone\u001b[0m, \u001b[38;5;34m128\u001b[0m)                 │         \u001b[38;5;34m557,568\u001b[0m │\n",
              "├──────────────────────────────────────┼─────────────────────────────┼─────────────────┤\n",
              "│ dense_16 (\u001b[38;5;33mDense\u001b[0m)                     │ (\u001b[38;5;45mNone\u001b[0m, \u001b[38;5;34m64\u001b[0m)                  │           \u001b[38;5;34m8,256\u001b[0m │\n",
              "├──────────────────────────────────────┼─────────────────────────────┼─────────────────┤\n",
              "│ dense_17 (\u001b[38;5;33mDense\u001b[0m)                     │ (\u001b[38;5;45mNone\u001b[0m, \u001b[38;5;34m32\u001b[0m)                  │           \u001b[38;5;34m2,080\u001b[0m │\n",
              "├──────────────────────────────────────┼─────────────────────────────┼─────────────────┤\n",
              "│ dense_18 (\u001b[38;5;33mDense\u001b[0m)                     │ (\u001b[38;5;45mNone\u001b[0m, \u001b[38;5;34m6\u001b[0m)                   │             \u001b[38;5;34m198\u001b[0m │\n",
              "└──────────────────────────────────────┴─────────────────────────────┴─────────────────┘\n"
            ],
            "text/html": [
              "<pre style=\"white-space:pre;overflow-x:auto;line-height:normal;font-family:Menlo,'DejaVu Sans Mono',consolas,'Courier New',monospace\">┏━━━━━━━━━━━━━━━━━━━━━━━━━━━━━━━━━━━━━━┳━━━━━━━━━━━━━━━━━━━━━━━━━━━━━┳━━━━━━━━━━━━━━━━━┓\n",
              "┃<span style=\"font-weight: bold\"> Layer (type)                         </span>┃<span style=\"font-weight: bold\"> Output Shape                </span>┃<span style=\"font-weight: bold\">         Param # </span>┃\n",
              "┡━━━━━━━━━━━━━━━━━━━━━━━━━━━━━━━━━━━━━━╇━━━━━━━━━━━━━━━━━━━━━━━━━━━━━╇━━━━━━━━━━━━━━━━━┩\n",
              "│ time_distributed_18                  │ (<span style=\"color: #00d7ff; text-decoration-color: #00d7ff\">None</span>, <span style=\"color: #00af00; text-decoration-color: #00af00\">4</span>, <span style=\"color: #00af00; text-decoration-color: #00af00\">30</span>, <span style=\"color: #00af00; text-decoration-color: #00af00\">64</span>)           │           <span style=\"color: #00af00; text-decoration-color: #00af00\">2,560</span> │\n",
              "│ (<span style=\"color: #0087ff; text-decoration-color: #0087ff\">TimeDistributed</span>)                    │                             │                 │\n",
              "├──────────────────────────────────────┼─────────────────────────────┼─────────────────┤\n",
              "│ time_distributed_19                  │ (<span style=\"color: #00d7ff; text-decoration-color: #00d7ff\">None</span>, <span style=\"color: #00af00; text-decoration-color: #00af00\">4</span>, <span style=\"color: #00af00; text-decoration-color: #00af00\">15</span>, <span style=\"color: #00af00; text-decoration-color: #00af00\">64</span>)           │               <span style=\"color: #00af00; text-decoration-color: #00af00\">0</span> │\n",
              "│ (<span style=\"color: #0087ff; text-decoration-color: #0087ff\">TimeDistributed</span>)                    │                             │                 │\n",
              "├──────────────────────────────────────┼─────────────────────────────┼─────────────────┤\n",
              "│ time_distributed_20                  │ (<span style=\"color: #00d7ff; text-decoration-color: #00d7ff\">None</span>, <span style=\"color: #00af00; text-decoration-color: #00af00\">4</span>, <span style=\"color: #00af00; text-decoration-color: #00af00\">960</span>)              │               <span style=\"color: #00af00; text-decoration-color: #00af00\">0</span> │\n",
              "│ (<span style=\"color: #0087ff; text-decoration-color: #0087ff\">TimeDistributed</span>)                    │                             │                 │\n",
              "├──────────────────────────────────────┼─────────────────────────────┼─────────────────┤\n",
              "│ lstm_6 (<span style=\"color: #0087ff; text-decoration-color: #0087ff\">LSTM</span>)                        │ (<span style=\"color: #00d7ff; text-decoration-color: #00d7ff\">None</span>, <span style=\"color: #00af00; text-decoration-color: #00af00\">128</span>)                 │         <span style=\"color: #00af00; text-decoration-color: #00af00\">557,568</span> │\n",
              "├──────────────────────────────────────┼─────────────────────────────┼─────────────────┤\n",
              "│ dense_16 (<span style=\"color: #0087ff; text-decoration-color: #0087ff\">Dense</span>)                     │ (<span style=\"color: #00d7ff; text-decoration-color: #00d7ff\">None</span>, <span style=\"color: #00af00; text-decoration-color: #00af00\">64</span>)                  │           <span style=\"color: #00af00; text-decoration-color: #00af00\">8,256</span> │\n",
              "├──────────────────────────────────────┼─────────────────────────────┼─────────────────┤\n",
              "│ dense_17 (<span style=\"color: #0087ff; text-decoration-color: #0087ff\">Dense</span>)                     │ (<span style=\"color: #00d7ff; text-decoration-color: #00d7ff\">None</span>, <span style=\"color: #00af00; text-decoration-color: #00af00\">32</span>)                  │           <span style=\"color: #00af00; text-decoration-color: #00af00\">2,080</span> │\n",
              "├──────────────────────────────────────┼─────────────────────────────┼─────────────────┤\n",
              "│ dense_18 (<span style=\"color: #0087ff; text-decoration-color: #0087ff\">Dense</span>)                     │ (<span style=\"color: #00d7ff; text-decoration-color: #00d7ff\">None</span>, <span style=\"color: #00af00; text-decoration-color: #00af00\">6</span>)                   │             <span style=\"color: #00af00; text-decoration-color: #00af00\">198</span> │\n",
              "└──────────────────────────────────────┴─────────────────────────────┴─────────────────┘\n",
              "</pre>\n"
            ]
          },
          "metadata": {}
        },
        {
          "output_type": "display_data",
          "data": {
            "text/plain": [
              "\u001b[1m Total params: \u001b[0m\u001b[38;5;34m570,662\u001b[0m (2.18 MB)\n"
            ],
            "text/html": [
              "<pre style=\"white-space:pre;overflow-x:auto;line-height:normal;font-family:Menlo,'DejaVu Sans Mono',consolas,'Courier New',monospace\"><span style=\"font-weight: bold\"> Total params: </span><span style=\"color: #00af00; text-decoration-color: #00af00\">570,662</span> (2.18 MB)\n",
              "</pre>\n"
            ]
          },
          "metadata": {}
        },
        {
          "output_type": "display_data",
          "data": {
            "text/plain": [
              "\u001b[1m Trainable params: \u001b[0m\u001b[38;5;34m570,662\u001b[0m (2.18 MB)\n"
            ],
            "text/html": [
              "<pre style=\"white-space:pre;overflow-x:auto;line-height:normal;font-family:Menlo,'DejaVu Sans Mono',consolas,'Courier New',monospace\"><span style=\"font-weight: bold\"> Trainable params: </span><span style=\"color: #00af00; text-decoration-color: #00af00\">570,662</span> (2.18 MB)\n",
              "</pre>\n"
            ]
          },
          "metadata": {}
        },
        {
          "output_type": "display_data",
          "data": {
            "text/plain": [
              "\u001b[1m Non-trainable params: \u001b[0m\u001b[38;5;34m0\u001b[0m (0.00 B)\n"
            ],
            "text/html": [
              "<pre style=\"white-space:pre;overflow-x:auto;line-height:normal;font-family:Menlo,'DejaVu Sans Mono',consolas,'Courier New',monospace\"><span style=\"font-weight: bold\"> Non-trainable params: </span><span style=\"color: #00af00; text-decoration-color: #00af00\">0</span> (0.00 B)\n",
              "</pre>\n"
            ]
          },
          "metadata": {}
        }
      ]
    },
    {
      "cell_type": "code",
      "source": [
        "model_custom.fit(\n",
        "    X_train,\n",
        "    labels,\n",
        "    batch_size=32,\n",
        "    epochs=50,\n",
        "    validation_split=0.2\n",
        ")"
      ],
      "metadata": {
        "colab": {
          "base_uri": "https://localhost:8080/"
        },
        "id": "K_4EuTl-XXqK",
        "outputId": "e2f1524c-b9b6-4a2e-f037-016f19d00a45"
      },
      "execution_count": null,
      "outputs": [
        {
          "output_type": "stream",
          "name": "stdout",
          "text": [
            "Epoch 1/50\n",
            "\u001b[1m184/184\u001b[0m \u001b[32m━━━━━━━━━━━━━━━━━━━━\u001b[0m\u001b[37m\u001b[0m \u001b[1m4s\u001b[0m 10ms/step - accuracy: 0.5587 - loss: 1.2545 - val_accuracy: 0.7750 - val_loss: 0.5962\n",
            "Epoch 2/50\n",
            "\u001b[1m184/184\u001b[0m \u001b[32m━━━━━━━━━━━━━━━━━━━━\u001b[0m\u001b[37m\u001b[0m \u001b[1m2s\u001b[0m 9ms/step - accuracy: 0.8194 - loss: 0.4504 - val_accuracy: 0.8226 - val_loss: 0.4974\n",
            "Epoch 3/50\n",
            "\u001b[1m184/184\u001b[0m \u001b[32m━━━━━━━━━━━━━━━━━━━━\u001b[0m\u001b[37m\u001b[0m \u001b[1m2s\u001b[0m 7ms/step - accuracy: 0.8735 - loss: 0.3291 - val_accuracy: 0.8498 - val_loss: 0.4213\n",
            "Epoch 4/50\n",
            "\u001b[1m184/184\u001b[0m \u001b[32m━━━━━━━━━━━━━━━━━━━━\u001b[0m\u001b[37m\u001b[0m \u001b[1m1s\u001b[0m 8ms/step - accuracy: 0.8910 - loss: 0.2726 - val_accuracy: 0.8885 - val_loss: 0.3664\n",
            "Epoch 5/50\n",
            "\u001b[1m184/184\u001b[0m \u001b[32m━━━━━━━━━━━━━━━━━━━━\u001b[0m\u001b[37m\u001b[0m \u001b[1m3s\u001b[0m 8ms/step - accuracy: 0.9129 - loss: 0.2224 - val_accuracy: 0.8973 - val_loss: 0.3323\n",
            "Epoch 6/50\n",
            "\u001b[1m184/184\u001b[0m \u001b[32m━━━━━━━━━━━━━━━━━━━━\u001b[0m\u001b[37m\u001b[0m \u001b[1m2s\u001b[0m 7ms/step - accuracy: 0.9340 - loss: 0.1703 - val_accuracy: 0.9075 - val_loss: 0.3059\n",
            "Epoch 7/50\n",
            "\u001b[1m184/184\u001b[0m \u001b[32m━━━━━━━━━━━━━━━━━━━━\u001b[0m\u001b[37m\u001b[0m \u001b[1m1s\u001b[0m 7ms/step - accuracy: 0.9455 - loss: 0.1514 - val_accuracy: 0.9001 - val_loss: 0.3175\n",
            "Epoch 8/50\n",
            "\u001b[1m184/184\u001b[0m \u001b[32m━━━━━━━━━━━━━━━━━━━━\u001b[0m\u001b[37m\u001b[0m \u001b[1m2s\u001b[0m 9ms/step - accuracy: 0.9463 - loss: 0.1345 - val_accuracy: 0.9089 - val_loss: 0.3067\n",
            "Epoch 9/50\n",
            "\u001b[1m184/184\u001b[0m \u001b[32m━━━━━━━━━━━━━━━━━━━━\u001b[0m\u001b[37m\u001b[0m \u001b[1m2s\u001b[0m 7ms/step - accuracy: 0.9557 - loss: 0.1111 - val_accuracy: 0.9028 - val_loss: 0.3296\n",
            "Epoch 10/50\n",
            "\u001b[1m184/184\u001b[0m \u001b[32m━━━━━━━━━━━━━━━━━━━━\u001b[0m\u001b[37m\u001b[0m \u001b[1m3s\u001b[0m 7ms/step - accuracy: 0.9543 - loss: 0.1140 - val_accuracy: 0.9041 - val_loss: 0.3318\n",
            "Epoch 11/50\n",
            "\u001b[1m184/184\u001b[0m \u001b[32m━━━━━━━━━━━━━━━━━━━━\u001b[0m\u001b[37m\u001b[0m \u001b[1m1s\u001b[0m 8ms/step - accuracy: 0.9580 - loss: 0.1006 - val_accuracy: 0.9021 - val_loss: 0.3372\n",
            "Epoch 12/50\n",
            "\u001b[1m184/184\u001b[0m \u001b[32m━━━━━━━━━━━━━━━━━━━━\u001b[0m\u001b[37m\u001b[0m \u001b[1m2s\u001b[0m 8ms/step - accuracy: 0.9589 - loss: 0.0950 - val_accuracy: 0.9096 - val_loss: 0.3399\n",
            "Epoch 13/50\n",
            "\u001b[1m184/184\u001b[0m \u001b[32m━━━━━━━━━━━━━━━━━━━━\u001b[0m\u001b[37m\u001b[0m \u001b[1m2s\u001b[0m 7ms/step - accuracy: 0.9652 - loss: 0.0874 - val_accuracy: 0.9096 - val_loss: 0.3385\n",
            "Epoch 14/50\n",
            "\u001b[1m184/184\u001b[0m \u001b[32m━━━━━━━━━━━━━━━━━━━━\u001b[0m\u001b[37m\u001b[0m \u001b[1m2s\u001b[0m 9ms/step - accuracy: 0.9643 - loss: 0.0849 - val_accuracy: 0.9069 - val_loss: 0.3620\n",
            "Epoch 15/50\n",
            "\u001b[1m184/184\u001b[0m \u001b[32m━━━━━━━━━━━━━━━━━━━━\u001b[0m\u001b[37m\u001b[0m \u001b[1m2s\u001b[0m 9ms/step - accuracy: 0.9626 - loss: 0.0835 - val_accuracy: 0.9096 - val_loss: 0.3639\n",
            "Epoch 16/50\n",
            "\u001b[1m184/184\u001b[0m \u001b[32m━━━━━━━━━━━━━━━━━━━━\u001b[0m\u001b[37m\u001b[0m \u001b[1m1s\u001b[0m 8ms/step - accuracy: 0.9626 - loss: 0.0819 - val_accuracy: 0.9096 - val_loss: 0.3638\n",
            "Epoch 17/50\n",
            "\u001b[1m184/184\u001b[0m \u001b[32m━━━━━━━━━━━━━━━━━━━━\u001b[0m\u001b[37m\u001b[0m \u001b[1m2s\u001b[0m 7ms/step - accuracy: 0.9597 - loss: 0.0823 - val_accuracy: 0.9109 - val_loss: 0.3851\n",
            "Epoch 18/50\n",
            "\u001b[1m184/184\u001b[0m \u001b[32m━━━━━━━━━━━━━━━━━━━━\u001b[0m\u001b[37m\u001b[0m \u001b[1m1s\u001b[0m 7ms/step - accuracy: 0.9672 - loss: 0.0744 - val_accuracy: 0.9096 - val_loss: 0.3840\n",
            "Epoch 19/50\n",
            "\u001b[1m184/184\u001b[0m \u001b[32m━━━━━━━━━━━━━━━━━━━━\u001b[0m\u001b[37m\u001b[0m \u001b[1m2s\u001b[0m 8ms/step - accuracy: 0.9652 - loss: 0.0756 - val_accuracy: 0.8926 - val_loss: 0.4210\n",
            "Epoch 20/50\n",
            "\u001b[1m184/184\u001b[0m \u001b[32m━━━━━━━━━━━━━━━━━━━━\u001b[0m\u001b[37m\u001b[0m \u001b[1m3s\u001b[0m 8ms/step - accuracy: 0.9591 - loss: 0.0828 - val_accuracy: 0.9021 - val_loss: 0.4146\n",
            "Epoch 21/50\n",
            "\u001b[1m184/184\u001b[0m \u001b[32m━━━━━━━━━━━━━━━━━━━━\u001b[0m\u001b[37m\u001b[0m \u001b[1m2s\u001b[0m 7ms/step - accuracy: 0.9670 - loss: 0.0719 - val_accuracy: 0.9109 - val_loss: 0.3932\n",
            "Epoch 22/50\n",
            "\u001b[1m184/184\u001b[0m \u001b[32m━━━━━━━━━━━━━━━━━━━━\u001b[0m\u001b[37m\u001b[0m \u001b[1m3s\u001b[0m 7ms/step - accuracy: 0.9689 - loss: 0.0656 - val_accuracy: 0.9096 - val_loss: 0.4060\n",
            "Epoch 23/50\n",
            "\u001b[1m184/184\u001b[0m \u001b[32m━━━━━━━━━━━━━━━━━━━━\u001b[0m\u001b[37m\u001b[0m \u001b[1m1s\u001b[0m 7ms/step - accuracy: 0.9695 - loss: 0.0676 - val_accuracy: 0.9089 - val_loss: 0.4471\n",
            "Epoch 24/50\n",
            "\u001b[1m184/184\u001b[0m \u001b[32m━━━━━━━━━━━━━━━━━━━━\u001b[0m\u001b[37m\u001b[0m \u001b[1m3s\u001b[0m 7ms/step - accuracy: 0.9703 - loss: 0.0635 - val_accuracy: 0.9028 - val_loss: 0.4252\n",
            "Epoch 25/50\n",
            "\u001b[1m184/184\u001b[0m \u001b[32m━━━━━━━━━━━━━━━━━━━━\u001b[0m\u001b[37m\u001b[0m \u001b[1m2s\u001b[0m 8ms/step - accuracy: 0.9646 - loss: 0.0698 - val_accuracy: 0.9082 - val_loss: 0.4222\n",
            "Epoch 26/50\n",
            "\u001b[1m184/184\u001b[0m \u001b[32m━━━━━━━━━━━━━━━━━━━━\u001b[0m\u001b[37m\u001b[0m \u001b[1m2s\u001b[0m 9ms/step - accuracy: 0.9700 - loss: 0.0634 - val_accuracy: 0.8756 - val_loss: 0.5464\n",
            "Epoch 27/50\n",
            "\u001b[1m184/184\u001b[0m \u001b[32m━━━━━━━━━━━━━━━━━━━━\u001b[0m\u001b[37m\u001b[0m \u001b[1m2s\u001b[0m 9ms/step - accuracy: 0.9656 - loss: 0.0717 - val_accuracy: 0.9082 - val_loss: 0.4259\n",
            "Epoch 28/50\n",
            "\u001b[1m184/184\u001b[0m \u001b[32m━━━━━━━━━━━━━━━━━━━━\u001b[0m\u001b[37m\u001b[0m \u001b[1m2s\u001b[0m 8ms/step - accuracy: 0.9747 - loss: 0.0577 - val_accuracy: 0.9089 - val_loss: 0.4402\n",
            "Epoch 29/50\n",
            "\u001b[1m184/184\u001b[0m \u001b[32m━━━━━━━━━━━━━━━━━━━━\u001b[0m\u001b[37m\u001b[0m \u001b[1m1s\u001b[0m 8ms/step - accuracy: 0.9690 - loss: 0.0615 - val_accuracy: 0.9069 - val_loss: 0.4505\n",
            "Epoch 30/50\n",
            "\u001b[1m184/184\u001b[0m \u001b[32m━━━━━━━━━━━━━━━━━━━━\u001b[0m\u001b[37m\u001b[0m \u001b[1m2s\u001b[0m 7ms/step - accuracy: 0.9778 - loss: 0.0567 - val_accuracy: 0.9096 - val_loss: 0.4707\n",
            "Epoch 31/50\n",
            "\u001b[1m184/184\u001b[0m \u001b[32m━━━━━━━━━━━━━━━━━━━━\u001b[0m\u001b[37m\u001b[0m \u001b[1m1s\u001b[0m 7ms/step - accuracy: 0.9726 - loss: 0.0610 - val_accuracy: 0.8892 - val_loss: 0.4678\n",
            "Epoch 32/50\n",
            "\u001b[1m184/184\u001b[0m \u001b[32m━━━━━━━━━━━━━━━━━━━━\u001b[0m\u001b[37m\u001b[0m \u001b[1m1s\u001b[0m 7ms/step - accuracy: 0.9687 - loss: 0.0658 - val_accuracy: 0.9075 - val_loss: 0.4545\n",
            "Epoch 33/50\n",
            "\u001b[1m184/184\u001b[0m \u001b[32m━━━━━━━━━━━━━━━━━━━━\u001b[0m\u001b[37m\u001b[0m \u001b[1m2s\u001b[0m 10ms/step - accuracy: 0.9730 - loss: 0.0575 - val_accuracy: 0.9096 - val_loss: 0.4669\n",
            "Epoch 34/50\n",
            "\u001b[1m184/184\u001b[0m \u001b[32m━━━━━━━━━━━━━━━━━━━━\u001b[0m\u001b[37m\u001b[0m \u001b[1m2s\u001b[0m 9ms/step - accuracy: 0.9766 - loss: 0.0535 - val_accuracy: 0.9075 - val_loss: 0.5021\n",
            "Epoch 35/50\n",
            "\u001b[1m184/184\u001b[0m \u001b[32m━━━━━━━━━━━━━━━━━━━━\u001b[0m\u001b[37m\u001b[0m \u001b[1m2s\u001b[0m 7ms/step - accuracy: 0.9677 - loss: 0.0633 - val_accuracy: 0.8994 - val_loss: 0.4641\n",
            "Epoch 36/50\n",
            "\u001b[1m184/184\u001b[0m \u001b[32m━━━━━━━━━━━━━━━━━━━━\u001b[0m\u001b[37m\u001b[0m \u001b[1m3s\u001b[0m 7ms/step - accuracy: 0.9773 - loss: 0.0510 - val_accuracy: 0.9014 - val_loss: 0.4445\n",
            "Epoch 37/50\n",
            "\u001b[1m184/184\u001b[0m \u001b[32m━━━━━━━━━━━━━━━━━━━━\u001b[0m\u001b[37m\u001b[0m \u001b[1m1s\u001b[0m 7ms/step - accuracy: 0.9782 - loss: 0.0526 - val_accuracy: 0.9096 - val_loss: 0.4885\n",
            "Epoch 38/50\n",
            "\u001b[1m184/184\u001b[0m \u001b[32m━━━━━━━━━━━━━━━━━━━━\u001b[0m\u001b[37m\u001b[0m \u001b[1m1s\u001b[0m 7ms/step - accuracy: 0.9755 - loss: 0.0526 - val_accuracy: 0.8892 - val_loss: 0.4983\n",
            "Epoch 39/50\n",
            "\u001b[1m184/184\u001b[0m \u001b[32m━━━━━━━━━━━━━━━━━━━━\u001b[0m\u001b[37m\u001b[0m \u001b[1m3s\u001b[0m 10ms/step - accuracy: 0.9750 - loss: 0.0526 - val_accuracy: 0.9069 - val_loss: 0.5270\n",
            "Epoch 40/50\n",
            "\u001b[1m184/184\u001b[0m \u001b[32m━━━━━━━━━━━━━━━━━━━━\u001b[0m\u001b[37m\u001b[0m \u001b[1m1s\u001b[0m 8ms/step - accuracy: 0.9777 - loss: 0.0462 - val_accuracy: 0.9109 - val_loss: 0.4948\n",
            "Epoch 41/50\n",
            "\u001b[1m184/184\u001b[0m \u001b[32m━━━━━━━━━━━━━━━━━━━━\u001b[0m\u001b[37m\u001b[0m \u001b[1m3s\u001b[0m 7ms/step - accuracy: 0.9771 - loss: 0.0602 - val_accuracy: 0.9075 - val_loss: 0.4766\n",
            "Epoch 42/50\n",
            "\u001b[1m184/184\u001b[0m \u001b[32m━━━━━━━━━━━━━━━━━━━━\u001b[0m\u001b[37m\u001b[0m \u001b[1m3s\u001b[0m 8ms/step - accuracy: 0.9745 - loss: 0.0528 - val_accuracy: 0.9103 - val_loss: 0.4784\n",
            "Epoch 43/50\n",
            "\u001b[1m184/184\u001b[0m \u001b[32m━━━━━━━━━━━━━━━━━━━━\u001b[0m\u001b[37m\u001b[0m \u001b[1m1s\u001b[0m 7ms/step - accuracy: 0.9798 - loss: 0.0448 - val_accuracy: 0.9103 - val_loss: 0.4803\n",
            "Epoch 44/50\n",
            "\u001b[1m184/184\u001b[0m \u001b[32m━━━━━━━━━━━━━━━━━━━━\u001b[0m\u001b[37m\u001b[0m \u001b[1m3s\u001b[0m 8ms/step - accuracy: 0.9800 - loss: 0.0454 - val_accuracy: 0.9082 - val_loss: 0.4992\n",
            "Epoch 45/50\n",
            "\u001b[1m184/184\u001b[0m \u001b[32m━━━━━━━━━━━━━━━━━━━━\u001b[0m\u001b[37m\u001b[0m \u001b[1m2s\u001b[0m 7ms/step - accuracy: 0.9778 - loss: 0.0484 - val_accuracy: 0.9082 - val_loss: 0.5018\n",
            "Epoch 46/50\n",
            "\u001b[1m184/184\u001b[0m \u001b[32m━━━━━━━━━━━━━━━━━━━━\u001b[0m\u001b[37m\u001b[0m \u001b[1m1s\u001b[0m 7ms/step - accuracy: 0.9805 - loss: 0.0417 - val_accuracy: 0.9069 - val_loss: 0.5045\n",
            "Epoch 47/50\n",
            "\u001b[1m184/184\u001b[0m \u001b[32m━━━━━━━━━━━━━━━━━━━━\u001b[0m\u001b[37m\u001b[0m \u001b[1m3s\u001b[0m 7ms/step - accuracy: 0.9785 - loss: 0.0470 - val_accuracy: 0.9007 - val_loss: 0.5150\n",
            "Epoch 48/50\n",
            "\u001b[1m184/184\u001b[0m \u001b[32m━━━━━━━━━━━━━━━━━━━━\u001b[0m\u001b[37m\u001b[0m \u001b[1m1s\u001b[0m 7ms/step - accuracy: 0.9834 - loss: 0.0419 - val_accuracy: 0.8810 - val_loss: 0.5254\n",
            "Epoch 49/50\n",
            "\u001b[1m184/184\u001b[0m \u001b[32m━━━━━━━━━━━━━━━━━━━━\u001b[0m\u001b[37m\u001b[0m \u001b[1m3s\u001b[0m 8ms/step - accuracy: 0.9801 - loss: 0.0430 - val_accuracy: 0.9021 - val_loss: 0.5333\n",
            "Epoch 50/50\n",
            "\u001b[1m184/184\u001b[0m \u001b[32m━━━━━━━━━━━━━━━━━━━━\u001b[0m\u001b[37m\u001b[0m \u001b[1m2s\u001b[0m 9ms/step - accuracy: 0.9815 - loss: 0.0392 - val_accuracy: 0.9055 - val_loss: 0.5226\n"
          ]
        },
        {
          "output_type": "execute_result",
          "data": {
            "text/plain": [
              "<keras.src.callbacks.history.History at 0x7d72552c2790>"
            ]
          },
          "metadata": {},
          "execution_count": 88
        }
      ]
    },
    {
      "cell_type": "code",
      "source": [
        "CNN_LSTM_dense_custom_predictions = get_metrics(model_custom, X_test, labels_test)"
      ],
      "metadata": {
        "colab": {
          "base_uri": "https://localhost:8080/",
          "height": 812
        },
        "id": "tA8xvGO4XcxP",
        "outputId": "2474f3b7-be54-444f-c36e-905aa4d123d9"
      },
      "execution_count": null,
      "outputs": [
        {
          "output_type": "stream",
          "name": "stdout",
          "text": [
            "\u001b[1m93/93\u001b[0m \u001b[32m━━━━━━━━━━━━━━━━━━━━\u001b[0m\u001b[37m\u001b[0m \u001b[1m1s\u001b[0m 7ms/step\n",
            "\n",
            "Performance Metrics:\n",
            "Accuracy:  0.9111\n",
            "Precision: 0.9128\n",
            "Recall:    0.9111\n",
            "F1 Score:  0.9111\n"
          ]
        },
        {
          "output_type": "display_data",
          "data": {
            "text/plain": [
              "<Figure size 800x600 with 2 Axes>"
            ],
            "image/png": "[encoded data removed]"
          },
          "metadata": {}
        }
      ]
    },
    {
      "cell_type": "markdown",
      "source": [
        "## Results by the three CNN_LSTM models and Observations of this overall notebook\n"
      ],
      "metadata": {
        "id": "IDnHjZEqY2bL"
      }
    },
    {
      "cell_type": "markdown",
      "source": [
        "### Accuracy Graphs for CNN_LSTM models"
      ],
      "metadata": {
        "id": "o4UJhCrVrMHP"
      }
    },
    {
      "cell_type": "code",
      "source": [
        "y_preds = [CNN_LSTM_predictions[0], CNN_LSTM_dense_predictions[0], CNN_LSTM_dense_custom_predictions[0]]\n",
        "accuracies = [ CNN_LSTM_predictions[1], CNN_LSTM_dense_predictions[1], CNN_LSTM_dense_custom_predictions[1]]\n",
        "f1_scores = [CNN_LSTM_predictions[2], CNN_LSTM_dense_predictions[2], CNN_LSTM_dense_custom_predictions[2]]"
      ],
      "metadata": {
        "id": "wxkjeLM-Y6o7"
      },
      "execution_count": null,
      "outputs": []
    },
    {
      "cell_type": "code",
      "source": [
        "type(CNN_LSTM_dense_custom_predictions[0])"
      ],
      "metadata": {
        "colab": {
          "base_uri": "https://localhost:8080/"
        },
        "id": "4D2pM6lTewHl",
        "outputId": "bd9da7b6-b1fb-447e-d1fb-01a322dc4050"
      },
      "execution_count": null,
      "outputs": [
        {
          "output_type": "execute_result",
          "data": {
            "text/plain": [
              "numpy.ndarray"
            ]
          },
          "metadata": {},
          "execution_count": 92
        }
      ]
    },
    {
      "cell_type": "code",
      "source": [
        "uniques = np.unique(labels_test)\n",
        "\n",
        "# making a dict to store the accuracy per activity for each model\n",
        "accuracy_per_activity = {model: [] for model in [\"CNN-LSTM\", \"CNN-LSTM-Dense\", \"CNN-LSTM-Dense-Custom\"]}\n",
        "\n",
        "for activity in uniques:\n",
        "    mask = labels_test == activity\n",
        "    #this mask is just a true false value where the test_labels matches certain activity\n",
        "    for i, model in enumerate([\"CNN-LSTM\", \"CNN-LSTM-Dense\", \"CNN-LSTM-Dense-Custom\"]):\n",
        "        accuracy = accuracy_score(labels_test[mask], y_preds[i][mask])\n",
        "        accuracy_per_activity[model].append(accuracy)\n",
        "\n",
        "\n",
        "accuracy_per_activity_model1 = accuracy_per_activity[\"CNN-LSTM\"]\n",
        "accuracy_per_activity_model2 = accuracy_per_activity[\"CNN-LSTM-Dense\"]\n",
        "accuracy_per_activity_model3 = accuracy_per_activity[\"CNN-LSTM-Dense-Custom\"]"
      ],
      "metadata": {
        "id": "DufIT9sgZ6K3"
      },
      "execution_count": null,
      "outputs": []
    },
    {
      "cell_type": "code",
      "source": [
        "x = np.arange(len(uniques))\n",
        "width = 0.2\n",
        "\n",
        "fig, ax = plt.subplots(figsize=(13, 6))\n",
        "ax.bar(x - width, accuracy_per_activity_model1, width, label='CNN-LSTM')\n",
        "ax.bar(x, accuracy_per_activity_model2, width, label='CNN-LSTM-Dense')\n",
        "ax.bar(x + width, accuracy_per_activity_model3, width, label='CNN-LSTM-Dense-Custom')\n",
        "\n",
        "ax.set_xlabel(\"Activity\")\n",
        "ax.set_ylabel(\"Accuracy\")\n",
        "ax.set_title(\"Accuracy per Activity for Different Models\")\n",
        "ax.set_xticks(x)\n",
        "ax.set_xticklabels(['Walking', 'Walking Upstairs', 'Walking Downstairs', 'Sitting', 'Standing', 'Laying'])\n",
        "ax.legend()\n",
        "plt.show()\n"
      ],
      "metadata": {
        "colab": {
          "base_uri": "https://localhost:8080/",
          "height": 564
        },
        "id": "iTeu5vseiVTX",
        "outputId": "675ea38c-4821-484a-c9ca-3d9829d0a4aa"
      },
      "execution_count": null,
      "outputs": [
        {
          "output_type": "display_data",
          "data": {
            "text/plain": [
              "<Figure size 1300x600 with 1 Axes>"
            ],
            "image/png": "[encoded data removed]"
          },
          "metadata": {}
        }
      ]
    },
    {
      "cell_type": "code",
      "source": [
        "plt.figure(figsize=(10, 4))\n",
        "plt.bar([\"CNN-LSTM\", \"CNN-LSTM-Dense\", \"CNN-LSTM-Dense-Custom\"], accuracies, color=['blue', 'orange', 'green'])\n",
        "plt.xlabel(\"Models\")\n",
        "plt.ylabel(\"Accuracy\")\n",
        "plt.title(\"Overall Accuracy Comparison\")\n",
        "plt.ylim(0.85, 1.0)\n",
        "plt.show()\n"
      ],
      "metadata": {
        "colab": {
          "base_uri": "https://localhost:8080/",
          "height": 410
        },
        "id": "zgdJTtDMiRzw",
        "outputId": "66f784d0-515a-4e84-8a83-ce3966aba13c"
      },
      "execution_count": null,
      "outputs": [
        {
          "output_type": "display_data",
          "data": {
            "text/plain": [
              "<Figure size 1000x400 with 1 Axes>"
            ],
            "image/png": "[encoded data removed]"
          },
          "metadata": {}
        }
      ]
    },
    {
      "cell_type": "code",
      "source": [
        "plt.figure(figsize=(10, 4))\n",
        "plt.bar([\"CNN-LSTM\", \"CNN-LSTM-Dense\", \"CNN-LSTM-Dense-Custom\"], f1_scores, color=['blue', 'orange', 'green'])\n",
        "plt.xlabel(\"Models\")\n",
        "plt.ylabel(\"F1-score\")\n",
        "plt.title(\"Overall F1-score Comparison\")\n",
        "plt.ylim(0.8, 1.0)\n",
        "plt.show()"
      ],
      "metadata": {
        "colab": {
          "base_uri": "https://localhost:8080/",
          "height": 410
        },
        "id": "pYqO4PU8jFZv",
        "outputId": "09cd2833-fd93-401b-cd26-05a7ca0ae9f3"
      },
      "execution_count": null,
      "outputs": [
        {
          "output_type": "display_data",
          "data": {
            "text/plain": [
              "<Figure size 1000x400 with 1 Axes>"
            ],
            "image/png": "[encoded data removed]"
          },
          "metadata": {}
        }
      ]
    },
    {
      "cell_type": "markdown",
      "source": [
        "### Observations"
      ],
      "metadata": {
        "id": "wTmNV8JdrIpx"
      }
    },
    {
      "cell_type": "markdown",
      "source": [
        "### **Observations**\n",
        "\n",
        "When using raw inertial signals directly with an LSTM model, the accuracy was **~40%**. Even though we added two more custom features of total acceleration and total gyro accuracy went upto **~41%** but this isn't the significant change.\n",
        "\n",
        "When using a **1D CNN** followed by **LSTM** and a Dense layer with 50 neurons, the accuracy improved to **~90%**.\n",
        "\n",
        "The reasons for these changes are discussed below.\n",
        "\n",
        "---\n",
        "\n",
        "\n",
        "### **Reasons**\n",
        "#### **LSTM on Raw Inertial Data (~40% Accuracy)**\n",
        "\n",
        "- LSTMs are good at capturing temporal dependencies but struggle when the raw input lacks extracted features.\n",
        "- Directly feeding raw sensor data without preprocessing forces LSTM to learn both feature extraction and temporal dependencies, which is inefficient.\n",
        "\n",
        "    \n",
        "**Why Accuracy Was Low:**\n",
        "\n",
        "- The model had to learn important features from scratch, making it harder to converge. No spatial (local) feature extraction was performed before sequence modeling. The lack of feature hierarchies led to poor generalization across activities.\n",
        "\n",
        "---\n",
        "#### **CNN + LSTM + Dense (~90% Accuracy)**\n",
        "**Improvements Due to 1D CNN:**\n",
        "\n",
        "- **Feature Extraction**: CNN helps in learning local patterns from inertial signals before LSTM processes the sequence.\n",
        "- **Reduces Noise**: CNN filters irrelevant variations. They make it easier for LSTM to learn meaningful temporal relationships.\n",
        "- **Spatial Awareness**: 1D CNN captures short-term dependencies effectively which LSTM can then model over time.\n",
        "\n",
        "\n",
        "Once the CNN extracts meaningful features, LSTM can focus on learning long-term dependencies instead of struggling with raw data.\n",
        "This leads to better sequence modeling and improved classification performance. Also we have added dense layer which helped in capturing complex feature relationships after LSTM processing. It acts as a fully connected decision-making layer, improving final classification performance.\n",
        "\n"
      ],
      "metadata": {
        "id": "84asTAlgrQ_7"
      }
    },
    {
      "cell_type": "code",
      "source": [],
      "metadata": {
        "id": "SOcQafosjS2W"
      },
      "execution_count": null,
      "outputs": []
    }
  ],
  "metadata": {
    "kernelspec": {
      "display_name": "Python 3",
      "name": "python3"
    },
    "language_info": {
      "codemirror_mode": {
        "name": "ipython",
        "version": 3
      },
      "file_extension": ".py",
      "mimetype": "text/x-python",
      "name": "python",
      "nbconvert_exporter": "python",
      "pygments_lexer": "ipython3",
      "version": "3.13.2"
    },
    "colab": {
      "provenance": [],
      "gpuType": "T4",
      "include_colab_link": true
    },
    "accelerator": "GPU"
  },
  "nbformat": 4,
  "nbformat_minor": 0
}